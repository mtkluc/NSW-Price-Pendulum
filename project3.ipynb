{
 "cells": [
  {
   "cell_type": "code",
   "execution_count": 1,
   "id": "6a9a859f-d429-456a-acc3-b423d0731bfc",
   "metadata": {},
   "outputs": [],
   "source": [
    "import polars as pl\n",
    "import csv\n",
    "import glob\n",
    "import os"
   ]
  },
  {
   "cell_type": "code",
   "execution_count": 2,
   "id": "379ce2cc-7e7a-49fa-86e0-b55de98a63d4",
   "metadata": {},
   "outputs": [],
   "source": [
    "def clean_file(input_path, output_path):\n",
    "    with open(input_path, \"r\", encoding=\"utf-8\") as infile, open(output_path, \"w\", encoding=\"utf-8\") as outfile:\n",
    "        reader = csv.reader(infile, delimiter=\";\", quotechar='\"', escapechar=\"\\\\\")\n",
    "        writer = csv.writer(outfile, delimiter=\";\", quotechar='\"', escapechar=\"\\\\\", quoting=csv.QUOTE_MINIMAL)\n",
    "        \n",
    "        for row in reader:\n",
    "            if row.count('\"') % 2 != 0:  \n",
    "                continue\n",
    "            max_columns = 24  \n",
    "            row = row[:max_columns] + [\"\"] * (max_columns - len(row))\n",
    "            writer.writerow(row)"
   ]
  },
  {
   "cell_type": "code",
   "execution_count": 3,
   "id": "6cd5f5fd-1f1e-43af-9bd0-7822f2c60374",
   "metadata": {},
   "outputs": [],
   "source": [
    "extract_folder = \"extract\"\n",
    "cleaned_folder = \"cleaned\""
   ]
  },
  {
   "cell_type": "code",
   "execution_count": 4,
   "id": "06ac27a4-8389-4fb0-8835-e4d091dcfc94",
   "metadata": {},
   "outputs": [
    {
     "name": "stdout",
     "output_type": "stream",
     "text": [
      "Number of .dat files found: 25176\n"
     ]
    }
   ],
   "source": [
    "dat_files = glob.glob(f\"{extract_folder}/*.dat\")\n",
    "print(f\"Number of .dat files found: {len(dat_files)}\")"
   ]
  },
  {
   "cell_type": "code",
   "execution_count": 5,
   "id": "8b4bfacd-3269-4de0-868a-6cf20c0d269e",
   "metadata": {},
   "outputs": [],
   "source": [
    "os.makedirs(cleaned_folder, exist_ok=True)\n",
    "\n",
    "dat_files = glob.glob(f\"{extract_folder}/*.dat\")\n",
    "\n",
    "for file in dat_files:\n",
    "    cleaned_path = os.path.join(cleaned_folder, os.path.basename(file))\n",
    "    clean_file(file, cleaned_path)"
   ]
  },
  {
   "cell_type": "code",
   "execution_count": 6,
   "id": "cfd2b853-a307-4149-9be3-f6a9abcaad57",
   "metadata": {},
   "outputs": [],
   "source": [
    "df_list = []\n",
    "df_schema = {\n",
    "    'recordType': pl.Utf8,\n",
    "    'districtCode': pl.Utf8,\n",
    "    'propertyId': pl.Utf8,\n",
    "    'saleCounter': pl.Utf8,\n",
    "    'downloadDatetime': pl.Utf8,\n",
    "    'propertyName': pl.Utf8,\n",
    "    'propertyUnitNumber': pl.Utf8,\n",
    "    'propertyHouseNumber': pl.Utf8,\n",
    "    'propertyStreetName': pl.Utf8,\n",
    "    'propertyLocality': pl.Utf8,\n",
    "    'propertyPostCode': pl.Utf8,\n",
    "    'area': pl.Utf8,\n",
    "    'areaType': pl.Utf8,\n",
    "    'contractDate': pl.Utf8,\n",
    "    'settlementDate': pl.Utf8,\n",
    "    'purchasePrice': pl.Utf8,\n",
    "    'zoning': pl.Utf8,\n",
    "    'natureofProperty': pl.Utf8,\n",
    "    'primaryPurpose': pl.Utf8,\n",
    "    'strataLotNumber': pl.Utf8,\n",
    "    'componentCode': pl.Utf8,\n",
    "    'saleCode': pl.Utf8,\n",
    "    'InterestofSale%': pl.Utf8,\n",
    "    'dealingNumber': pl.Utf8\n",
    "}"
   ]
  },
  {
   "cell_type": "code",
   "execution_count": 7,
   "id": "e97876ec-7364-4634-b7f8-009c1d996923",
   "metadata": {},
   "outputs": [],
   "source": [
    "dat_cleaned = glob.glob(f\"{cleaned_folder}/*.dat\")\n",
    "for file in dat_cleaned:\n",
    "    try:\n",
    "        df = pl.read_csv(\n",
    "            file,\n",
    "            separator=\";\",\n",
    "            has_header=False,\n",
    "            schema = df_schema,\n",
    "            truncate_ragged_lines=True,\n",
    "            ignore_errors=True\n",
    "        ).with_columns(\n",
    "            [pl.col(column).cast(pl.Utf8) for column in df_schema.keys()])\n",
    "        df_list.append(df)\n",
    "    except Exception as e:\n",
    "        print(f\"Error reading {file}: {e}\")"
   ]
  },
  {
   "cell_type": "code",
   "execution_count": 8,
   "id": "35bb83fb-07ac-429c-8dbe-05cf7e0e5ff4",
   "metadata": {
    "scrolled": true
   },
   "outputs": [
    {
     "name": "stdout",
     "output_type": "stream",
     "text": [
      "Filtered data saved to 'filtered_data.csv'.\n"
     ]
    }
   ],
   "source": [
    "if df_list:\n",
    "    try:\n",
    "        df_combined = pl.concat(df_list)\n",
    "        df_filtered = df_combined.filter(pl.col(\"recordType\") == \"B\")\n",
    "        df_filtered.write_csv(\"filtered_data.csv\")\n",
    "        print(\"Filtered data saved to 'filtered_data.csv'.\")\n",
    "    except Exception as e:\n",
    "        print(f\"Error during concatenation or filtering: {e}\")\n",
    "else:\n",
    "    print(\"No valid DataFrames to process.\")"
   ]
  },
  {
   "cell_type": "code",
   "execution_count": 9,
   "id": "84c73113-2758-4a41-ad4f-0b47e75bc75b",
   "metadata": {},
   "outputs": [
    {
     "data": {
      "text/html": [
       "<div><style>\n",
       ".dataframe > thead > tr,\n",
       ".dataframe > tbody > tr {\n",
       "  text-align: right;\n",
       "  white-space: pre-wrap;\n",
       "}\n",
       "</style>\n",
       "<small>shape: (5, 24)</small><table border=\"1\" class=\"dataframe\"><thead><tr><th>recordType</th><th>districtCode</th><th>propertyId</th><th>saleCounter</th><th>downloadDatetime</th><th>propertyName</th><th>propertyUnitNumber</th><th>propertyHouseNumber</th><th>propertyStreetName</th><th>propertyLocality</th><th>propertyPostCode</th><th>area</th><th>areaType</th><th>contractDate</th><th>settlementDate</th><th>purchasePrice</th><th>zoning</th><th>natureofProperty</th><th>primaryPurpose</th><th>strataLotNumber</th><th>componentCode</th><th>saleCode</th><th>InterestofSale%</th><th>dealingNumber</th></tr><tr><td>str</td><td>str</td><td>str</td><td>str</td><td>str</td><td>str</td><td>str</td><td>str</td><td>str</td><td>str</td><td>str</td><td>str</td><td>str</td><td>str</td><td>str</td><td>str</td><td>str</td><td>str</td><td>str</td><td>str</td><td>str</td><td>str</td><td>str</td><td>str</td></tr></thead><tbody><tr><td>&quot;B&quot;</td><td>&quot;001&quot;</td><td>&quot;2857799&quot;</td><td>&quot;1&quot;</td><td>&quot;20240101 01:07&quot;</td><td>null</td><td>null</td><td>&quot;176&quot;</td><td>&quot;LAKE RD&quot;</td><td>&quot;ELRINGTON&quot;</td><td>&quot;2325&quot;</td><td>&quot;25.15&quot;</td><td>&quot;H&quot;</td><td>&quot;20231219&quot;</td><td>&quot;20231222&quot;</td><td>&quot;1330000&quot;</td><td>&quot;RU2&quot;</td><td>&quot;R&quot;</td><td>&quot;RESIDENCE&quot;</td><td>null</td><td>&quot;RAN&quot;</td><td>null</td><td>&quot;0&quot;</td><td>&quot;AT729586\r",
       "&quot;</td></tr><tr><td>&quot;B&quot;</td><td>&quot;001&quot;</td><td>&quot;4228&quot;</td><td>&quot;2&quot;</td><td>&quot;20240101 01:07&quot;</td><td>null</td><td>null</td><td>&quot;2&quot;</td><td>&quot;KING ST&quot;</td><td>&quot;BRANXTON&quot;</td><td>&quot;2335&quot;</td><td>&quot;1864&quot;</td><td>&quot;M&quot;</td><td>&quot;20231115&quot;</td><td>&quot;20231222&quot;</td><td>&quot;850000&quot;</td><td>&quot;R3&quot;</td><td>&quot;R&quot;</td><td>&quot;RESIDENCE&quot;</td><td>null</td><td>&quot;MAB&quot;</td><td>null</td><td>&quot;0&quot;</td><td>&quot;AT731473\r",
       "&quot;</td></tr><tr><td>&quot;B&quot;</td><td>&quot;001&quot;</td><td>&quot;7750&quot;</td><td>&quot;3&quot;</td><td>&quot;20240101 01:07&quot;</td><td>null</td><td>null</td><td>&quot;275&quot;</td><td>&quot;MAITLAND RD&quot;</td><td>&quot;CESSNOCK&quot;</td><td>&quot;2325&quot;</td><td>&quot;379.8&quot;</td><td>&quot;M&quot;</td><td>&quot;20231026&quot;</td><td>&quot;20231222&quot;</td><td>&quot;500000&quot;</td><td>&quot;R3&quot;</td><td>&quot;3&quot;</td><td>&quot;SHOP&quot;</td><td>null</td><td>&quot;MAA&quot;</td><td>null</td><td>&quot;0&quot;</td><td>&quot;AT729914\r",
       "&quot;</td></tr><tr><td>&quot;B&quot;</td><td>&quot;001&quot;</td><td>&quot;11439&quot;</td><td>&quot;4&quot;</td><td>&quot;20240101 01:07&quot;</td><td>null</td><td>null</td><td>&quot;19&quot;</td><td>&quot;DEAKIN ST&quot;</td><td>&quot;KURRI KURRI&quot;</td><td>&quot;2327&quot;</td><td>&quot;1682&quot;</td><td>&quot;M&quot;</td><td>&quot;20231103&quot;</td><td>&quot;20231222&quot;</td><td>&quot;575000&quot;</td><td>&quot;R2&quot;</td><td>&quot;R&quot;</td><td>&quot;RESIDENCE&quot;</td><td>null</td><td>&quot;AAO&quot;</td><td>null</td><td>&quot;0&quot;</td><td>&quot;AT731374\r",
       "&quot;</td></tr><tr><td>&quot;B&quot;</td><td>&quot;001&quot;</td><td>&quot;18319&quot;</td><td>&quot;5&quot;</td><td>&quot;20240101 01:07&quot;</td><td>null</td><td>null</td><td>&quot;700&quot;</td><td>&quot;MILSONS ARM RD&quot;</td><td>&quot;WOLLOMBI&quot;</td><td>&quot;2325&quot;</td><td>&quot;31.77&quot;</td><td>&quot;H&quot;</td><td>&quot;20231218&quot;</td><td>&quot;20231222&quot;</td><td>&quot;236667&quot;</td><td>&quot;RU2&quot;</td><td>&quot;R&quot;</td><td>&quot;RESIDENCE&quot;</td><td>null</td><td>&quot;RAG&quot;</td><td>null</td><td>&quot;0&quot;</td><td>&quot;AT733421\r",
       "&quot;</td></tr></tbody></table></div>"
      ],
      "text/plain": [
       "shape: (5, 24)\n",
       "┌────────────┬──────────────┬────────────┬─────────────┬───┬───────────────┬──────────┬────────────────┬───────────────┐\n",
       "│ recordType ┆ districtCode ┆ propertyId ┆ saleCounter ┆ … ┆ componentCode ┆ saleCode ┆ InterestofSale ┆ dealingNumber │\n",
       "│ ---        ┆ ---          ┆ ---        ┆ ---         ┆   ┆ ---           ┆ ---      ┆ %              ┆ ---           │\n",
       "│ str        ┆ str          ┆ str        ┆ str         ┆   ┆ str           ┆ str      ┆ ---            ┆ str           │\n",
       "│            ┆              ┆            ┆             ┆   ┆               ┆          ┆ str            ┆               │\n",
       "╞════════════╪══════════════╪════════════╪═════════════╪═══╪═══════════════╪══════════╪════════════════╪═══════════════╡\n",
       "│ B          ┆ 001          ┆ 2857799    ┆ 1           ┆ … ┆ RAN           ┆ null     ┆ 0              ┆ AT729586\n",
       "     │\n",
       "│ B          ┆ 001          ┆ 4228       ┆ 2           ┆ … ┆ MAB           ┆ null     ┆ 0              ┆ AT731473\n",
       "     │\n",
       "│ B          ┆ 001          ┆ 7750       ┆ 3           ┆ … ┆ MAA           ┆ null     ┆ 0              ┆ AT729914\n",
       "     │\n",
       "│ B          ┆ 001          ┆ 11439      ┆ 4           ┆ … ┆ AAO           ┆ null     ┆ 0              ┆ AT731374\n",
       "     │\n",
       "│ B          ┆ 001          ┆ 18319      ┆ 5           ┆ … ┆ RAG           ┆ null     ┆ 0              ┆ AT733421\n",
       "     │\n",
       "└────────────┴──────────────┴────────────┴─────────────┴───┴───────────────┴──────────┴────────────────┴───────────────┘"
      ]
     },
     "execution_count": 9,
     "metadata": {},
     "output_type": "execute_result"
    }
   ],
   "source": [
    "df_filtered.head()"
   ]
  },
  {
   "cell_type": "code",
   "execution_count": 10,
   "id": "e3f3963b-6515-4f8d-9a8b-d3c933a374b1",
   "metadata": {},
   "outputs": [],
   "source": [
    "df_cleaning = df_filtered.with_columns(\n",
    "    pl.col(\"contractDate\").str.strptime(pl.Date, \"%Y%m%d\", strict=False).alias(\"contractDate\")\n",
    ")"
   ]
  },
  {
   "cell_type": "code",
   "execution_count": 11,
   "id": "1d15929c-9721-4078-a59c-8dba2ba92770",
   "metadata": {},
   "outputs": [],
   "source": [
    "df_cleaning = df_cleaning.select('districtCode',\n",
    "                            'propertyId',\n",
    "                            'propertyName',\n",
    "                            'propertyUnitNumber',\n",
    "                            'propertyHouseNumber',\n",
    "                            'propertyStreetName',\n",
    "                            'propertyLocality',\n",
    "                            'propertyPostCode',\n",
    "                            'area',\n",
    "                            'areaType',\n",
    "                            'contractDate',\n",
    "                            'settlementDate',\n",
    "                            'purchasePrice',\n",
    "                            'primaryPurpose',\n",
    "                            'strataLotNumber')"
   ]
  },
  {
   "cell_type": "code",
   "execution_count": 12,
   "id": "a854fe2e-596f-466a-b953-6b8a0cdb9921",
   "metadata": {},
   "outputs": [],
   "source": [
    "df_cleaning = df_cleaning.with_columns(pl.col(\"area\").cast(pl.Float64).alias(\"area\"))"
   ]
  },
  {
   "cell_type": "code",
   "execution_count": 13,
   "id": "d21a53e2-d0b4-4269-b272-e07978377058",
   "metadata": {},
   "outputs": [],
   "source": [
    "df_cleaning = df_cleaning.with_columns(\n",
    "    pl.when(pl.col('areaType') == 'M')\n",
    "     .then(pl.col('area').cast(pl.Float64))\n",
    "     .when(pl.col('areaType') == 'H')\n",
    "     .then(pl.col('area').cast(pl.Float64) * 10000)\n",
    "     .otherwise(None)\n",
    "     .alias('area(m)')\n",
    ")"
   ]
  },
  {
   "cell_type": "code",
   "execution_count": 14,
   "id": "add13404-dab9-492b-9d74-6fa10d9673a5",
   "metadata": {},
   "outputs": [],
   "source": [
    "df_cleaning = df_cleaning.with_columns(pl.col(\"purchasePrice\").cast(pl.Int64).alias(\"purchasePrice\"))"
   ]
  },
  {
   "cell_type": "code",
   "execution_count": 15,
   "id": "1edcf0e5-c230-4348-beec-ea2dece41f5d",
   "metadata": {},
   "outputs": [],
   "source": [
    "df_cleaning = df_cleaning.with_columns(pl.col(\"propertyId\").cast(pl.Int64).alias(\"propertyId\"))"
   ]
  },
  {
   "cell_type": "code",
   "execution_count": 16,
   "id": "5fd5afca-5879-4534-bab0-167cd12ddb54",
   "metadata": {},
   "outputs": [],
   "source": [
    "df_cleaning = df_cleaning.with_columns(\n",
    "    pl.col(\"settlementDate\").str.strptime(pl.Date, \"%Y%m%d\", strict=False).alias(\"settlementDate\")\n",
    ")"
   ]
  },
  {
   "cell_type": "code",
   "execution_count": 17,
   "id": "df8f8d0b-a1e4-49eb-b5b5-38f8d3545949",
   "metadata": {},
   "outputs": [],
   "source": [
    "df_cleaning = df_cleaning.with_columns([\n",
    "    pl.col('settlementDate').dt.year().alias('settlementYear'),\n",
    "    pl.col('settlementDate').dt.month().alias('settlementMonth')\n",
    "])\n"
   ]
  },
  {
   "cell_type": "code",
   "execution_count": 18,
   "id": "98b7aa2d-ce86-46dc-a5d9-00c1ab1aa259",
   "metadata": {},
   "outputs": [],
   "source": [
    "df_cleaning = df_cleaning.filter(\n",
    "    pl.col('settlementYear') >= 2021\n",
    ")"
   ]
  },
  {
   "cell_type": "code",
   "execution_count": 19,
   "id": "7e713820-bf2a-482d-86ef-555be9f43563",
   "metadata": {},
   "outputs": [],
   "source": [
    "df_cleaning = df_cleaning.with_columns((pl.col(\"purchasePrice\") / pl.col(\"area(m)\")).alias(\"pricePerM2\").round(2))"
   ]
  },
  {
   "cell_type": "code",
   "execution_count": 20,
   "id": "82144f60-85a5-4b39-bbf3-755935f0ddd1",
   "metadata": {},
   "outputs": [
    {
     "data": {
      "text/html": [
       "<div><style>\n",
       ".dataframe > thead > tr,\n",
       ".dataframe > tbody > tr {\n",
       "  text-align: right;\n",
       "  white-space: pre-wrap;\n",
       "}\n",
       "</style>\n",
       "<small>shape: (5, 19)</small><table border=\"1\" class=\"dataframe\"><thead><tr><th>districtCode</th><th>propertyId</th><th>propertyName</th><th>propertyUnitNumber</th><th>propertyHouseNumber</th><th>propertyStreetName</th><th>propertyLocality</th><th>propertyPostCode</th><th>area</th><th>areaType</th><th>contractDate</th><th>settlementDate</th><th>purchasePrice</th><th>primaryPurpose</th><th>strataLotNumber</th><th>area(m)</th><th>settlementYear</th><th>settlementMonth</th><th>pricePerM2</th></tr><tr><td>str</td><td>i64</td><td>str</td><td>str</td><td>str</td><td>str</td><td>str</td><td>str</td><td>f64</td><td>str</td><td>str</td><td>date</td><td>i64</td><td>str</td><td>str</td><td>f64</td><td>i32</td><td>i8</td><td>f64</td></tr></thead><tbody><tr><td>&quot;001&quot;</td><td>2857799</td><td>null</td><td>null</td><td>&quot;176&quot;</td><td>&quot;LAKE RD&quot;</td><td>&quot;ELRINGTON&quot;</td><td>&quot;2325&quot;</td><td>25.15</td><td>&quot;H&quot;</td><td>&quot;20231219&quot;</td><td>2023-12-22</td><td>1330000</td><td>&quot;RESIDENCE&quot;</td><td>null</td><td>251500.0</td><td>2023</td><td>12</td><td>5.29</td></tr><tr><td>&quot;001&quot;</td><td>4228</td><td>null</td><td>null</td><td>&quot;2&quot;</td><td>&quot;KING ST&quot;</td><td>&quot;BRANXTON&quot;</td><td>&quot;2335&quot;</td><td>1864.0</td><td>&quot;M&quot;</td><td>&quot;20231115&quot;</td><td>2023-12-22</td><td>850000</td><td>&quot;RESIDENCE&quot;</td><td>null</td><td>1864.0</td><td>2023</td><td>12</td><td>456.01</td></tr><tr><td>&quot;001&quot;</td><td>7750</td><td>null</td><td>null</td><td>&quot;275&quot;</td><td>&quot;MAITLAND RD&quot;</td><td>&quot;CESSNOCK&quot;</td><td>&quot;2325&quot;</td><td>379.8</td><td>&quot;M&quot;</td><td>&quot;20231026&quot;</td><td>2023-12-22</td><td>500000</td><td>&quot;SHOP&quot;</td><td>null</td><td>379.8</td><td>2023</td><td>12</td><td>1316.48</td></tr><tr><td>&quot;001&quot;</td><td>11439</td><td>null</td><td>null</td><td>&quot;19&quot;</td><td>&quot;DEAKIN ST&quot;</td><td>&quot;KURRI KURRI&quot;</td><td>&quot;2327&quot;</td><td>1682.0</td><td>&quot;M&quot;</td><td>&quot;20231103&quot;</td><td>2023-12-22</td><td>575000</td><td>&quot;RESIDENCE&quot;</td><td>null</td><td>1682.0</td><td>2023</td><td>12</td><td>341.85</td></tr><tr><td>&quot;001&quot;</td><td>18319</td><td>null</td><td>null</td><td>&quot;700&quot;</td><td>&quot;MILSONS ARM RD&quot;</td><td>&quot;WOLLOMBI&quot;</td><td>&quot;2325&quot;</td><td>31.77</td><td>&quot;H&quot;</td><td>&quot;20231218&quot;</td><td>2023-12-22</td><td>236667</td><td>&quot;RESIDENCE&quot;</td><td>null</td><td>317700.0</td><td>2023</td><td>12</td><td>0.74</td></tr></tbody></table></div>"
      ],
      "text/plain": [
       "shape: (5, 19)\n",
       "┌──────────────┬────────────┬──────────────┬───────────────┬───┬──────────┬───────────────┬───────────────┬────────────┐\n",
       "│ districtCode ┆ propertyId ┆ propertyName ┆ propertyUnitN ┆ … ┆ area(m)  ┆ settlementYea ┆ settlementMon ┆ pricePerM2 │\n",
       "│ ---          ┆ ---        ┆ ---          ┆ umber         ┆   ┆ ---      ┆ r             ┆ th            ┆ ---        │\n",
       "│ str          ┆ i64        ┆ str          ┆ ---           ┆   ┆ f64      ┆ ---           ┆ ---           ┆ f64        │\n",
       "│              ┆            ┆              ┆ str           ┆   ┆          ┆ i32           ┆ i8            ┆            │\n",
       "╞══════════════╪════════════╪══════════════╪═══════════════╪═══╪══════════╪═══════════════╪═══════════════╪════════════╡\n",
       "│ 001          ┆ 2857799    ┆ null         ┆ null          ┆ … ┆ 251500.0 ┆ 2023          ┆ 12            ┆ 5.29       │\n",
       "│ 001          ┆ 4228       ┆ null         ┆ null          ┆ … ┆ 1864.0   ┆ 2023          ┆ 12            ┆ 456.01     │\n",
       "│ 001          ┆ 7750       ┆ null         ┆ null          ┆ … ┆ 379.8    ┆ 2023          ┆ 12            ┆ 1316.48    │\n",
       "│ 001          ┆ 11439      ┆ null         ┆ null          ┆ … ┆ 1682.0   ┆ 2023          ┆ 12            ┆ 341.85     │\n",
       "│ 001          ┆ 18319      ┆ null         ┆ null          ┆ … ┆ 317700.0 ┆ 2023          ┆ 12            ┆ 0.74       │\n",
       "└──────────────┴────────────┴──────────────┴───────────────┴───┴──────────┴───────────────┴───────────────┴────────────┘"
      ]
     },
     "execution_count": 20,
     "metadata": {},
     "output_type": "execute_result"
    }
   ],
   "source": [
    "df_cleaning.head()"
   ]
  },
  {
   "cell_type": "code",
   "execution_count": 21,
   "id": "62dc1995-2b34-4da5-85df-bbd40de60465",
   "metadata": {},
   "outputs": [],
   "source": [
    "df_cleaning_unique = df_cleaning.unique(keep=\"last\")"
   ]
  },
  {
   "cell_type": "code",
   "execution_count": 22,
   "id": "910d2f8e-0cc8-4f29-97a5-5e73c2741632",
   "metadata": {},
   "outputs": [
    {
     "data": {
      "text/plain": [
       "792946"
      ]
     },
     "execution_count": 22,
     "metadata": {},
     "output_type": "execute_result"
    }
   ],
   "source": [
    "df_cleaning_unique.n_unique()"
   ]
  },
  {
   "cell_type": "code",
   "execution_count": 23,
   "id": "aa3e2d25-afe6-4d1c-a348-1d7b15d08590",
   "metadata": {},
   "outputs": [],
   "source": [
    "cleaned_df = df_cleaning_unique.with_columns(pl.arange(0, df_cleaning_unique.height).alias(\"uniqueSaleKey\"))"
   ]
  },
  {
   "cell_type": "code",
   "execution_count": 24,
   "id": "0f7cbc82-fc5a-4498-b2da-75de9c8471fb",
   "metadata": {},
   "outputs": [
    {
     "data": {
      "text/html": [
       "<div><style>\n",
       ".dataframe > thead > tr,\n",
       ".dataframe > tbody > tr {\n",
       "  text-align: right;\n",
       "  white-space: pre-wrap;\n",
       "}\n",
       "</style>\n",
       "<small>shape: (5, 20)</small><table border=\"1\" class=\"dataframe\"><thead><tr><th>districtCode</th><th>propertyId</th><th>propertyName</th><th>propertyUnitNumber</th><th>propertyHouseNumber</th><th>propertyStreetName</th><th>propertyLocality</th><th>propertyPostCode</th><th>area</th><th>areaType</th><th>contractDate</th><th>settlementDate</th><th>purchasePrice</th><th>primaryPurpose</th><th>strataLotNumber</th><th>area(m)</th><th>settlementYear</th><th>settlementMonth</th><th>pricePerM2</th><th>uniqueSaleKey</th></tr><tr><td>str</td><td>i64</td><td>str</td><td>str</td><td>str</td><td>str</td><td>str</td><td>str</td><td>f64</td><td>str</td><td>str</td><td>date</td><td>i64</td><td>str</td><td>str</td><td>f64</td><td>i32</td><td>i8</td><td>f64</td><td>i64</td></tr></thead><tbody><tr><td>&quot;005&quot;</td><td>4079197</td><td>null</td><td>&quot;2&quot;</td><td>&quot;387&quot;</td><td>&quot;NEW ENGLAND HWY&quot;</td><td>&quot;RUTHERFORD&quot;</td><td>&quot;2320&quot;</td><td>617.0</td><td>&quot;M&quot;</td><td>&quot;20220202&quot;</td><td>2022-03-30</td><td>1300000</td><td>&quot;COMMERCIAL&quot;</td><td>&quot;2&quot;</td><td>617.0</td><td>2022</td><td>3</td><td>2106.97</td><td>0</td></tr><tr><td>&quot;004&quot;</td><td>4455621</td><td>null</td><td>&quot;3&quot;</td><td>&quot;14 B&quot;</td><td>&quot;KAROONDA CL&quot;</td><td>&quot;RATHMINES&quot;</td><td>&quot;2283&quot;</td><td>113.0</td><td>&quot;M&quot;</td><td>&quot;20220526&quot;</td><td>2023-02-17</td><td>330000</td><td>&quot;FACTORY&quot;</td><td>&quot;3&quot;</td><td>113.0</td><td>2023</td><td>2</td><td>2920.35</td><td>1</td></tr><tr><td>&quot;207&quot;</td><td>2019481</td><td>null</td><td>&quot;18&quot;</td><td>&quot;101&quot;</td><td>&quot;WENTWORTH ST&quot;</td><td>&quot;RANDWICK&quot;</td><td>&quot;2031&quot;</td><td>null</td><td>null</td><td>&quot;20230914&quot;</td><td>2023-11-09</td><td>850000</td><td>&quot;RESIDENCE&quot;</td><td>&quot;18&quot;</td><td>null</td><td>2023</td><td>11</td><td>null</td><td>2</td></tr><tr><td>&quot;004&quot;</td><td>164984</td><td>null</td><td>&quot;1&quot;</td><td>&quot;30&quot;</td><td>&quot;HUDSON ST&quot;</td><td>&quot;WHITEBRIDGE&quot;</td><td>&quot;2290&quot;</td><td>null</td><td>null</td><td>&quot;20210804&quot;</td><td>2021-09-08</td><td>625000</td><td>&quot;RESIDENCE&quot;</td><td>&quot;1&quot;</td><td>null</td><td>2021</td><td>9</td><td>null</td><td>3</td></tr><tr><td>&quot;223&quot;</td><td>2500291</td><td>null</td><td>null</td><td>&quot;2&quot;</td><td>&quot;KATHERINE ST&quot;</td><td>&quot;CECIL HILLS&quot;</td><td>&quot;2171&quot;</td><td>889.4</td><td>&quot;M&quot;</td><td>&quot;20231202&quot;</td><td>2024-01-29</td><td>1600000</td><td>&quot;RESIDENCE&quot;</td><td>null</td><td>889.4</td><td>2024</td><td>1</td><td>1798.97</td><td>4</td></tr></tbody></table></div>"
      ],
      "text/plain": [
       "shape: (5, 20)\n",
       "┌──────────────┬────────────┬──────────────┬──────────────┬───┬──────────────┬──────────────┬────────────┬─────────────┐\n",
       "│ districtCode ┆ propertyId ┆ propertyName ┆ propertyUnit ┆ … ┆ settlementYe ┆ settlementMo ┆ pricePerM2 ┆ uniqueSaleK │\n",
       "│ ---          ┆ ---        ┆ ---          ┆ Number       ┆   ┆ ar           ┆ nth          ┆ ---        ┆ ey          │\n",
       "│ str          ┆ i64        ┆ str          ┆ ---          ┆   ┆ ---          ┆ ---          ┆ f64        ┆ ---         │\n",
       "│              ┆            ┆              ┆ str          ┆   ┆ i32          ┆ i8           ┆            ┆ i64         │\n",
       "╞══════════════╪════════════╪══════════════╪══════════════╪═══╪══════════════╪══════════════╪════════════╪═════════════╡\n",
       "│ 005          ┆ 4079197    ┆ null         ┆ 2            ┆ … ┆ 2022         ┆ 3            ┆ 2106.97    ┆ 0           │\n",
       "│ 004          ┆ 4455621    ┆ null         ┆ 3            ┆ … ┆ 2023         ┆ 2            ┆ 2920.35    ┆ 1           │\n",
       "│ 207          ┆ 2019481    ┆ null         ┆ 18           ┆ … ┆ 2023         ┆ 11           ┆ null       ┆ 2           │\n",
       "│ 004          ┆ 164984     ┆ null         ┆ 1            ┆ … ┆ 2021         ┆ 9            ┆ null       ┆ 3           │\n",
       "│ 223          ┆ 2500291    ┆ null         ┆ null         ┆ … ┆ 2024         ┆ 1            ┆ 1798.97    ┆ 4           │\n",
       "└──────────────┴────────────┴──────────────┴──────────────┴───┴──────────────┴──────────────┴────────────┴─────────────┘"
      ]
     },
     "execution_count": 24,
     "metadata": {},
     "output_type": "execute_result"
    }
   ],
   "source": [
    "cleaned_df.head()"
   ]
  },
  {
   "cell_type": "code",
   "execution_count": 25,
   "id": "b6560296-94c6-413c-aa93-0fb935401b6d",
   "metadata": {},
   "outputs": [],
   "source": [
    "output_file = \"./cleaned.csv\"\n",
    "\n",
    "cleaned_df.write_csv(output_file)"
   ]
  },
  {
   "cell_type": "code",
   "execution_count": 26,
   "id": "c8af2c7f-5726-4c76-9b80-0d3c8801582a",
   "metadata": {},
   "outputs": [],
   "source": [
    "unit_df = cleaned_df.filter((pl.col(\"propertyUnitNumber\") != \"null\") | (pl.col(\"strataLotNumber\") != \"null\"))"
   ]
  },
  {
   "cell_type": "code",
   "execution_count": 27,
   "id": "aca4cd15-013f-49b7-b86a-ebec10524b9b",
   "metadata": {},
   "outputs": [
    {
     "data": {
      "text/html": [
       "<div><style>\n",
       ".dataframe > thead > tr,\n",
       ".dataframe > tbody > tr {\n",
       "  text-align: right;\n",
       "  white-space: pre-wrap;\n",
       "}\n",
       "</style>\n",
       "<small>shape: (5, 20)</small><table border=\"1\" class=\"dataframe\"><thead><tr><th>districtCode</th><th>propertyId</th><th>propertyName</th><th>propertyUnitNumber</th><th>propertyHouseNumber</th><th>propertyStreetName</th><th>propertyLocality</th><th>propertyPostCode</th><th>area</th><th>areaType</th><th>contractDate</th><th>settlementDate</th><th>purchasePrice</th><th>primaryPurpose</th><th>strataLotNumber</th><th>area(m)</th><th>settlementYear</th><th>settlementMonth</th><th>pricePerM2</th><th>uniqueSaleKey</th></tr><tr><td>str</td><td>i64</td><td>str</td><td>str</td><td>str</td><td>str</td><td>str</td><td>str</td><td>f64</td><td>str</td><td>str</td><td>date</td><td>i64</td><td>str</td><td>str</td><td>f64</td><td>i32</td><td>i8</td><td>f64</td><td>i64</td></tr></thead><tbody><tr><td>&quot;005&quot;</td><td>4079197</td><td>null</td><td>&quot;2&quot;</td><td>&quot;387&quot;</td><td>&quot;NEW ENGLAND HWY&quot;</td><td>&quot;RUTHERFORD&quot;</td><td>&quot;2320&quot;</td><td>617.0</td><td>&quot;M&quot;</td><td>&quot;20220202&quot;</td><td>2022-03-30</td><td>1300000</td><td>&quot;COMMERCIAL&quot;</td><td>&quot;2&quot;</td><td>617.0</td><td>2022</td><td>3</td><td>2106.97</td><td>0</td></tr><tr><td>&quot;004&quot;</td><td>4455621</td><td>null</td><td>&quot;3&quot;</td><td>&quot;14 B&quot;</td><td>&quot;KAROONDA CL&quot;</td><td>&quot;RATHMINES&quot;</td><td>&quot;2283&quot;</td><td>113.0</td><td>&quot;M&quot;</td><td>&quot;20220526&quot;</td><td>2023-02-17</td><td>330000</td><td>&quot;FACTORY&quot;</td><td>&quot;3&quot;</td><td>113.0</td><td>2023</td><td>2</td><td>2920.35</td><td>1</td></tr><tr><td>&quot;207&quot;</td><td>2019481</td><td>null</td><td>&quot;18&quot;</td><td>&quot;101&quot;</td><td>&quot;WENTWORTH ST&quot;</td><td>&quot;RANDWICK&quot;</td><td>&quot;2031&quot;</td><td>null</td><td>null</td><td>&quot;20230914&quot;</td><td>2023-11-09</td><td>850000</td><td>&quot;RESIDENCE&quot;</td><td>&quot;18&quot;</td><td>null</td><td>2023</td><td>11</td><td>null</td><td>2</td></tr><tr><td>&quot;004&quot;</td><td>164984</td><td>null</td><td>&quot;1&quot;</td><td>&quot;30&quot;</td><td>&quot;HUDSON ST&quot;</td><td>&quot;WHITEBRIDGE&quot;</td><td>&quot;2290&quot;</td><td>null</td><td>null</td><td>&quot;20210804&quot;</td><td>2021-09-08</td><td>625000</td><td>&quot;RESIDENCE&quot;</td><td>&quot;1&quot;</td><td>null</td><td>2021</td><td>9</td><td>null</td><td>3</td></tr><tr><td>&quot;708&quot;</td><td>3603342</td><td>null</td><td>&quot;217&quot;</td><td>&quot;13&quot;</td><td>&quot;BAYSWATER RD&quot;</td><td>&quot;POTTS POINT&quot;</td><td>&quot;2011&quot;</td><td>null</td><td>null</td><td>&quot;20230125&quot;</td><td>2023-02-17</td><td>1100000</td><td>&quot;RESIDENCE&quot;</td><td>&quot;17&quot;</td><td>null</td><td>2023</td><td>2</td><td>null</td><td>7</td></tr></tbody></table></div>"
      ],
      "text/plain": [
       "shape: (5, 20)\n",
       "┌──────────────┬────────────┬──────────────┬──────────────┬───┬──────────────┬──────────────┬────────────┬─────────────┐\n",
       "│ districtCode ┆ propertyId ┆ propertyName ┆ propertyUnit ┆ … ┆ settlementYe ┆ settlementMo ┆ pricePerM2 ┆ uniqueSaleK │\n",
       "│ ---          ┆ ---        ┆ ---          ┆ Number       ┆   ┆ ar           ┆ nth          ┆ ---        ┆ ey          │\n",
       "│ str          ┆ i64        ┆ str          ┆ ---          ┆   ┆ ---          ┆ ---          ┆ f64        ┆ ---         │\n",
       "│              ┆            ┆              ┆ str          ┆   ┆ i32          ┆ i8           ┆            ┆ i64         │\n",
       "╞══════════════╪════════════╪══════════════╪══════════════╪═══╪══════════════╪══════════════╪════════════╪═════════════╡\n",
       "│ 005          ┆ 4079197    ┆ null         ┆ 2            ┆ … ┆ 2022         ┆ 3            ┆ 2106.97    ┆ 0           │\n",
       "│ 004          ┆ 4455621    ┆ null         ┆ 3            ┆ … ┆ 2023         ┆ 2            ┆ 2920.35    ┆ 1           │\n",
       "│ 207          ┆ 2019481    ┆ null         ┆ 18           ┆ … ┆ 2023         ┆ 11           ┆ null       ┆ 2           │\n",
       "│ 004          ┆ 164984     ┆ null         ┆ 1            ┆ … ┆ 2021         ┆ 9            ┆ null       ┆ 3           │\n",
       "│ 708          ┆ 3603342    ┆ null         ┆ 217          ┆ … ┆ 2023         ┆ 2            ┆ null       ┆ 7           │\n",
       "└──────────────┴────────────┴──────────────┴──────────────┴───┴──────────────┴──────────────┴────────────┴─────────────┘"
      ]
     },
     "execution_count": 27,
     "metadata": {},
     "output_type": "execute_result"
    }
   ],
   "source": [
    "unit_df.head()"
   ]
  },
  {
   "cell_type": "code",
   "execution_count": 28,
   "id": "7bad0a48-ed47-4175-8c3f-270f08cf8419",
   "metadata": {},
   "outputs": [],
   "source": [
    "unit_df_filter = unit_df.filter(pl.col(\"primaryPurpose\").is_in([\"UNIT\", \"RESIDENCE\", \"HOUSE UNIT\"]))"
   ]
  },
  {
   "cell_type": "code",
   "execution_count": 29,
   "id": "c4eb90bf-5eb5-4a2c-babe-571ebc645a04",
   "metadata": {},
   "outputs": [
    {
     "data": {
      "text/html": [
       "<div><style>\n",
       ".dataframe > thead > tr,\n",
       ".dataframe > tbody > tr {\n",
       "  text-align: right;\n",
       "  white-space: pre-wrap;\n",
       "}\n",
       "</style>\n",
       "<small>shape: (5, 20)</small><table border=\"1\" class=\"dataframe\"><thead><tr><th>districtCode</th><th>propertyId</th><th>propertyName</th><th>propertyUnitNumber</th><th>propertyHouseNumber</th><th>propertyStreetName</th><th>propertyLocality</th><th>propertyPostCode</th><th>area</th><th>areaType</th><th>contractDate</th><th>settlementDate</th><th>purchasePrice</th><th>primaryPurpose</th><th>strataLotNumber</th><th>area(m)</th><th>settlementYear</th><th>settlementMonth</th><th>pricePerM2</th><th>uniqueSaleKey</th></tr><tr><td>str</td><td>i64</td><td>str</td><td>str</td><td>str</td><td>str</td><td>str</td><td>str</td><td>f64</td><td>str</td><td>str</td><td>date</td><td>i64</td><td>str</td><td>str</td><td>f64</td><td>i32</td><td>i8</td><td>f64</td><td>i64</td></tr></thead><tbody><tr><td>&quot;207&quot;</td><td>2019481</td><td>null</td><td>&quot;18&quot;</td><td>&quot;101&quot;</td><td>&quot;WENTWORTH ST&quot;</td><td>&quot;RANDWICK&quot;</td><td>&quot;2031&quot;</td><td>null</td><td>null</td><td>&quot;20230914&quot;</td><td>2023-11-09</td><td>850000</td><td>&quot;RESIDENCE&quot;</td><td>&quot;18&quot;</td><td>null</td><td>2023</td><td>11</td><td>null</td><td>2</td></tr><tr><td>&quot;004&quot;</td><td>164984</td><td>null</td><td>&quot;1&quot;</td><td>&quot;30&quot;</td><td>&quot;HUDSON ST&quot;</td><td>&quot;WHITEBRIDGE&quot;</td><td>&quot;2290&quot;</td><td>null</td><td>null</td><td>&quot;20210804&quot;</td><td>2021-09-08</td><td>625000</td><td>&quot;RESIDENCE&quot;</td><td>&quot;1&quot;</td><td>null</td><td>2021</td><td>9</td><td>null</td><td>3</td></tr><tr><td>&quot;708&quot;</td><td>3603342</td><td>null</td><td>&quot;217&quot;</td><td>&quot;13&quot;</td><td>&quot;BAYSWATER RD&quot;</td><td>&quot;POTTS POINT&quot;</td><td>&quot;2011&quot;</td><td>null</td><td>null</td><td>&quot;20230125&quot;</td><td>2023-02-17</td><td>1100000</td><td>&quot;RESIDENCE&quot;</td><td>&quot;17&quot;</td><td>null</td><td>2023</td><td>2</td><td>null</td><td>7</td></tr><tr><td>&quot;082&quot;</td><td>4073357</td><td>null</td><td>&quot;105&quot;</td><td>&quot;450&quot;</td><td>&quot;PEATS FERRY RD&quot;</td><td>&quot;ASQUITH&quot;</td><td>&quot;2077&quot;</td><td>112.0</td><td>&quot;M&quot;</td><td>&quot;20211117&quot;</td><td>2021-12-13</td><td>630000</td><td>&quot;RESIDENCE&quot;</td><td>&quot;14&quot;</td><td>112.0</td><td>2021</td><td>12</td><td>5625.0</td><td>9</td></tr><tr><td>&quot;276&quot;</td><td>3607706</td><td>&quot;FUSION ARNCLIFFE&quot;</td><td>&quot;322&quot;</td><td>&quot;18&quot;</td><td>&quot;BONAR ST&quot;</td><td>&quot;ARNCLIFFE&quot;</td><td>&quot;2205&quot;</td><td>null</td><td>null</td><td>&quot;20230816&quot;</td><td>2023-09-27</td><td>515000</td><td>&quot;RESIDENCE&quot;</td><td>&quot;140&quot;</td><td>null</td><td>2023</td><td>9</td><td>null</td><td>16</td></tr></tbody></table></div>"
      ],
      "text/plain": [
       "shape: (5, 20)\n",
       "┌──────────────┬────────────┬──────────────┬──────────────┬───┬──────────────┬──────────────┬────────────┬─────────────┐\n",
       "│ districtCode ┆ propertyId ┆ propertyName ┆ propertyUnit ┆ … ┆ settlementYe ┆ settlementMo ┆ pricePerM2 ┆ uniqueSaleK │\n",
       "│ ---          ┆ ---        ┆ ---          ┆ Number       ┆   ┆ ar           ┆ nth          ┆ ---        ┆ ey          │\n",
       "│ str          ┆ i64        ┆ str          ┆ ---          ┆   ┆ ---          ┆ ---          ┆ f64        ┆ ---         │\n",
       "│              ┆            ┆              ┆ str          ┆   ┆ i32          ┆ i8           ┆            ┆ i64         │\n",
       "╞══════════════╪════════════╪══════════════╪══════════════╪═══╪══════════════╪══════════════╪════════════╪═════════════╡\n",
       "│ 207          ┆ 2019481    ┆ null         ┆ 18           ┆ … ┆ 2023         ┆ 11           ┆ null       ┆ 2           │\n",
       "│ 004          ┆ 164984     ┆ null         ┆ 1            ┆ … ┆ 2021         ┆ 9            ┆ null       ┆ 3           │\n",
       "│ 708          ┆ 3603342    ┆ null         ┆ 217          ┆ … ┆ 2023         ┆ 2            ┆ null       ┆ 7           │\n",
       "│ 082          ┆ 4073357    ┆ null         ┆ 105          ┆ … ┆ 2021         ┆ 12           ┆ 5625.0     ┆ 9           │\n",
       "│ 276          ┆ 3607706    ┆ FUSION       ┆ 322          ┆ … ┆ 2023         ┆ 9            ┆ null       ┆ 16          │\n",
       "│              ┆            ┆ ARNCLIFFE    ┆              ┆   ┆              ┆              ┆            ┆             │\n",
       "└──────────────┴────────────┴──────────────┴──────────────┴───┴──────────────┴──────────────┴────────────┴─────────────┘"
      ]
     },
     "execution_count": 29,
     "metadata": {},
     "output_type": "execute_result"
    }
   ],
   "source": [
    "unit_df_filter.head()"
   ]
  },
  {
   "cell_type": "code",
   "execution_count": 30,
   "id": "da9f75f4-b2fe-493c-bc3c-1d19ebdf8eb6",
   "metadata": {},
   "outputs": [
    {
     "data": {
      "text/plain": [
       "258602"
      ]
     },
     "execution_count": 30,
     "metadata": {},
     "output_type": "execute_result"
    }
   ],
   "source": [
    "unit_df_filter.n_unique()"
   ]
  },
  {
   "cell_type": "code",
   "execution_count": 31,
   "id": "dc17b9e6-31f0-4157-a080-430eb712e2ad",
   "metadata": {},
   "outputs": [],
   "source": [
    "output_file2 = \"./units.csv\"\n",
    "\n",
    "unit_df_filter.write_csv(output_file2)"
   ]
  },
  {
   "cell_type": "code",
   "execution_count": 32,
   "id": "00785753-d4fe-4aeb-944d-a82535ac7749",
   "metadata": {},
   "outputs": [
    {
     "data": {
      "text/html": [
       "<div><style>\n",
       ".dataframe > thead > tr,\n",
       ".dataframe > tbody > tr {\n",
       "  text-align: right;\n",
       "  white-space: pre-wrap;\n",
       "}\n",
       "</style>\n",
       "<small>shape: (4_613, 3)</small><table border=\"1\" class=\"dataframe\"><thead><tr><th>propertyLocality</th><th>settlementYear</th><th>avgPricePerM2</th></tr><tr><td>str</td><td>i32</td><td>f64</td></tr></thead><tbody><tr><td>&quot;ABBOTSBURY&quot;</td><td>2021</td><td>2653.68</td></tr><tr><td>&quot;ABBOTSFORD&quot;</td><td>2021</td><td>6215.51</td></tr><tr><td>&quot;ABBOTSFORD&quot;</td><td>2022</td><td>5805.39</td></tr><tr><td>&quot;ABBOTSFORD&quot;</td><td>2023</td><td>10195.46</td></tr><tr><td>&quot;ABBOTSFORD&quot;</td><td>2024</td><td>9810.86</td></tr><tr><td>&hellip;</td><td>&hellip;</td><td>&hellip;</td></tr><tr><td>&quot;YOWIE BAY&quot;</td><td>2024</td><td>5393.94</td></tr><tr><td>&quot;ZETLAND&quot;</td><td>2021</td><td>10411.85</td></tr><tr><td>&quot;ZETLAND&quot;</td><td>2022</td><td>10388.3</td></tr><tr><td>&quot;ZETLAND&quot;</td><td>2023</td><td>11018.7</td></tr><tr><td>&quot;ZETLAND&quot;</td><td>2024</td><td>32805.32</td></tr></tbody></table></div>"
      ],
      "text/plain": [
       "shape: (4_613, 3)\n",
       "┌──────────────────┬────────────────┬───────────────┐\n",
       "│ propertyLocality ┆ settlementYear ┆ avgPricePerM2 │\n",
       "│ ---              ┆ ---            ┆ ---           │\n",
       "│ str              ┆ i32            ┆ f64           │\n",
       "╞══════════════════╪════════════════╪═══════════════╡\n",
       "│ ABBOTSBURY       ┆ 2021           ┆ 2653.68       │\n",
       "│ ABBOTSFORD       ┆ 2021           ┆ 6215.51       │\n",
       "│ ABBOTSFORD       ┆ 2022           ┆ 5805.39       │\n",
       "│ ABBOTSFORD       ┆ 2023           ┆ 10195.46      │\n",
       "│ ABBOTSFORD       ┆ 2024           ┆ 9810.86       │\n",
       "│ …                ┆ …              ┆ …             │\n",
       "│ YOWIE BAY        ┆ 2024           ┆ 5393.94       │\n",
       "│ ZETLAND          ┆ 2021           ┆ 10411.85      │\n",
       "│ ZETLAND          ┆ 2022           ┆ 10388.3       │\n",
       "│ ZETLAND          ┆ 2023           ┆ 11018.7       │\n",
       "│ ZETLAND          ┆ 2024           ┆ 32805.32      │\n",
       "└──────────────────┴────────────────┴───────────────┘"
      ]
     },
     "execution_count": 32,
     "metadata": {},
     "output_type": "execute_result"
    }
   ],
   "source": [
    "unit_groupby = unit_df_filter.group_by(['propertyLocality', 'settlementYear']).agg(pl.col('pricePerM2').mean().alias('avgPricePerM2').round(2))\n",
    "unit_groupby.sort(['propertyLocality', 'settlementYear'])"
   ]
  },
  {
   "cell_type": "code",
   "execution_count": 33,
   "id": "bf7b4a1e-7fa2-461d-bdfa-ee58023fde80",
   "metadata": {},
   "outputs": [],
   "source": [
    "output_file3 = \"./units_grouped.csv\"\n",
    "\n",
    "unit_groupby.write_csv(output_file3)"
   ]
  },
  {
   "cell_type": "code",
   "execution_count": 50,
   "id": "2f16bd73-9164-490b-bf04-ba41829b3703",
   "metadata": {},
   "outputs": [],
   "source": [
    "df = pl.read_csv(\"units_grouped.csv\")"
   ]
  },
  {
   "cell_type": "code",
   "execution_count": 51,
   "id": "1ddc19a9-f3fc-435b-9bb7-af36b0aaf30b",
   "metadata": {},
   "outputs": [
    {
     "name": "stderr",
     "output_type": "stream",
     "text": [
      "C:\\Users\\mtklu\\AppData\\Local\\Temp\\ipykernel_16700\\2272853186.py:1: DeprecationWarning: The argument `columns` for `DataFrame.pivot` is deprecated. It has been renamed to `on`.\n",
      "  unit_pivot_df = df.pivot(\n"
     ]
    }
   ],
   "source": [
    "unit_pivot_df = df.pivot(\n",
    "    index=\"propertyLocality\",\n",
    "    columns=\"settlementYear\",\n",
    "    values=\"avgPricePerM2\",\n",
    "    aggregate_function=None  # Use this if you need to aggregate duplicate entries\n",
    ")"
   ]
  },
  {
   "cell_type": "code",
   "execution_count": 58,
   "id": "514f1883-f29d-401f-aa4c-38180cb3a481",
   "metadata": {},
   "outputs": [],
   "source": [
    "unit_pivot_df = unit_pivot_df[[\"propertyLocality\", \"2021\", \"2022\", \"2023\", \"2024\"]]"
   ]
  },
  {
   "cell_type": "code",
   "execution_count": 59,
   "id": "50e089fe-74cc-4428-8487-c11aa62853bc",
   "metadata": {},
   "outputs": [
    {
     "data": {
      "text/html": [
       "<div><style>\n",
       ".dataframe > thead > tr,\n",
       ".dataframe > tbody > tr {\n",
       "  text-align: right;\n",
       "  white-space: pre-wrap;\n",
       "}\n",
       "</style>\n",
       "<small>shape: (5, 5)</small><table border=\"1\" class=\"dataframe\"><thead><tr><th>propertyLocality</th><th>2021</th><th>2022</th><th>2023</th><th>2024</th></tr><tr><td>str</td><td>f64</td><td>f64</td><td>f64</td><td>f64</td></tr></thead><tbody><tr><td>&quot;TOONGABBIE&quot;</td><td>3957.02</td><td>4631.85</td><td>4205.63</td><td>5111.62</td></tr><tr><td>&quot;GUNDAGAI&quot;</td><td>1446.29</td><td>913.04</td><td>1556.25</td><td>1546.32</td></tr><tr><td>&quot;SINGLETON HEIGHTS&quot;</td><td>807.25</td><td>1273.41</td><td>null</td><td>1049.36</td></tr><tr><td>&quot;HOMEBUSH WEST&quot;</td><td>7953.36</td><td>5278.8</td><td>5551.58</td><td>5700.36</td></tr><tr><td>&quot;COLYTON&quot;</td><td>3330.31</td><td>2727.27</td><td>1851.71</td><td>1373.84</td></tr></tbody></table></div>"
      ],
      "text/plain": [
       "shape: (5, 5)\n",
       "┌───────────────────┬─────────┬─────────┬─────────┬─────────┐\n",
       "│ propertyLocality  ┆ 2021    ┆ 2022    ┆ 2023    ┆ 2024    │\n",
       "│ ---               ┆ ---     ┆ ---     ┆ ---     ┆ ---     │\n",
       "│ str               ┆ f64     ┆ f64     ┆ f64     ┆ f64     │\n",
       "╞═══════════════════╪═════════╪═════════╪═════════╪═════════╡\n",
       "│ TOONGABBIE        ┆ 3957.02 ┆ 4631.85 ┆ 4205.63 ┆ 5111.62 │\n",
       "│ GUNDAGAI          ┆ 1446.29 ┆ 913.04  ┆ 1556.25 ┆ 1546.32 │\n",
       "│ SINGLETON HEIGHTS ┆ 807.25  ┆ 1273.41 ┆ null    ┆ 1049.36 │\n",
       "│ HOMEBUSH WEST     ┆ 7953.36 ┆ 5278.8  ┆ 5551.58 ┆ 5700.36 │\n",
       "│ COLYTON           ┆ 3330.31 ┆ 2727.27 ┆ 1851.71 ┆ 1373.84 │\n",
       "└───────────────────┴─────────┴─────────┴─────────┴─────────┘"
      ]
     },
     "execution_count": 59,
     "metadata": {},
     "output_type": "execute_result"
    }
   ],
   "source": [
    "unit_pivot_df.head()"
   ]
  },
  {
   "cell_type": "code",
   "execution_count": 60,
   "id": "2f69f7f2-1c41-4320-99f6-ef75e655fc2a",
   "metadata": {},
   "outputs": [],
   "source": [
    "output_file_units = \"Data/units_data.csv\"\n",
    "\n",
    "unit_pivot_df.write_csv(output_file_units)"
   ]
  },
  {
   "cell_type": "code",
   "execution_count": 61,
   "id": "a51f1422-2165-4bf7-a320-109073cbab9c",
   "metadata": {},
   "outputs": [],
   "source": [
    "house_df = cleaned_df.filter(\n",
    "    (pl.col(\"propertyUnitNumber\").is_null() & pl.col(\"strataLotNumber\").is_null()))"
   ]
  },
  {
   "cell_type": "code",
   "execution_count": 62,
   "id": "ef368951-4135-4b77-8deb-dc18dcca5881",
   "metadata": {},
   "outputs": [
    {
     "data": {
      "text/html": [
       "<div><style>\n",
       ".dataframe > thead > tr,\n",
       ".dataframe > tbody > tr {\n",
       "  text-align: right;\n",
       "  white-space: pre-wrap;\n",
       "}\n",
       "</style>\n",
       "<small>shape: (5, 20)</small><table border=\"1\" class=\"dataframe\"><thead><tr><th>districtCode</th><th>propertyId</th><th>propertyName</th><th>propertyUnitNumber</th><th>propertyHouseNumber</th><th>propertyStreetName</th><th>propertyLocality</th><th>propertyPostCode</th><th>area</th><th>areaType</th><th>contractDate</th><th>settlementDate</th><th>purchasePrice</th><th>primaryPurpose</th><th>strataLotNumber</th><th>area(m)</th><th>settlementYear</th><th>settlementMonth</th><th>pricePerM2</th><th>uniqueSaleKey</th></tr><tr><td>str</td><td>i64</td><td>str</td><td>str</td><td>str</td><td>str</td><td>str</td><td>str</td><td>f64</td><td>str</td><td>str</td><td>date</td><td>i64</td><td>str</td><td>str</td><td>f64</td><td>i32</td><td>i8</td><td>f64</td><td>i64</td></tr></thead><tbody><tr><td>&quot;223&quot;</td><td>2500291</td><td>null</td><td>null</td><td>&quot;2&quot;</td><td>&quot;KATHERINE ST&quot;</td><td>&quot;CECIL HILLS&quot;</td><td>&quot;2171&quot;</td><td>889.4</td><td>&quot;M&quot;</td><td>&quot;20231202&quot;</td><td>2024-01-29</td><td>1600000</td><td>&quot;RESIDENCE&quot;</td><td>null</td><td>889.4</td><td>2024</td><td>1</td><td>1798.97</td><td>4</td></tr><tr><td>&quot;081&quot;</td><td>4412826</td><td>null</td><td>null</td><td>&quot;6&quot;</td><td>&quot;PILASTER ST&quot;</td><td>&quot;GABLES&quot;</td><td>&quot;2765&quot;</td><td>450.5</td><td>&quot;M&quot;</td><td>&quot;20201027&quot;</td><td>2022-03-16</td><td>579990</td><td>&quot;VACANT LAND&quot;</td><td>null</td><td>450.5</td><td>2022</td><td>3</td><td>1287.44</td><td>5</td></tr><tr><td>&quot;217&quot;</td><td>2280647</td><td>null</td><td>null</td><td>&quot;17&quot;</td><td>&quot;BOURKE PL&quot;</td><td>&quot;CAMDEN SOUTH&quot;</td><td>&quot;2570&quot;</td><td>809.4</td><td>&quot;M&quot;</td><td>&quot;20210511&quot;</td><td>2021-05-25</td><td>508560</td><td>&quot;RESIDENCE&quot;</td><td>null</td><td>809.4</td><td>2021</td><td>5</td><td>628.32</td><td>6</td></tr><tr><td>&quot;273&quot;</td><td>2664160</td><td>null</td><td>null</td><td>&quot;1&quot;</td><td>&quot;INGEBYRA ST&quot;</td><td>&quot;JINDABYNE&quot;</td><td>&quot;2627&quot;</td><td>853.6</td><td>&quot;M&quot;</td><td>&quot;20220511&quot;</td><td>2022-06-06</td><td>1331000</td><td>&quot;RESIDENCE&quot;</td><td>null</td><td>853.6</td><td>2022</td><td>6</td><td>1559.28</td><td>8</td></tr><tr><td>&quot;007&quot;</td><td>200152</td><td>null</td><td>null</td><td>&quot;25&quot;</td><td>&quot;THOMPSON ST&quot;</td><td>&quot;MUSWELLBROOK&quot;</td><td>&quot;2333&quot;</td><td>701.9</td><td>&quot;M&quot;</td><td>&quot;20230125&quot;</td><td>2023-03-08</td><td>392500</td><td>&quot;RESIDENCE&quot;</td><td>null</td><td>701.9</td><td>2023</td><td>3</td><td>559.2</td><td>10</td></tr></tbody></table></div>"
      ],
      "text/plain": [
       "shape: (5, 20)\n",
       "┌──────────────┬────────────┬──────────────┬──────────────┬───┬──────────────┬──────────────┬────────────┬─────────────┐\n",
       "│ districtCode ┆ propertyId ┆ propertyName ┆ propertyUnit ┆ … ┆ settlementYe ┆ settlementMo ┆ pricePerM2 ┆ uniqueSaleK │\n",
       "│ ---          ┆ ---        ┆ ---          ┆ Number       ┆   ┆ ar           ┆ nth          ┆ ---        ┆ ey          │\n",
       "│ str          ┆ i64        ┆ str          ┆ ---          ┆   ┆ ---          ┆ ---          ┆ f64        ┆ ---         │\n",
       "│              ┆            ┆              ┆ str          ┆   ┆ i32          ┆ i8           ┆            ┆ i64         │\n",
       "╞══════════════╪════════════╪══════════════╪══════════════╪═══╪══════════════╪══════════════╪════════════╪═════════════╡\n",
       "│ 223          ┆ 2500291    ┆ null         ┆ null         ┆ … ┆ 2024         ┆ 1            ┆ 1798.97    ┆ 4           │\n",
       "│ 081          ┆ 4412826    ┆ null         ┆ null         ┆ … ┆ 2022         ┆ 3            ┆ 1287.44    ┆ 5           │\n",
       "│ 217          ┆ 2280647    ┆ null         ┆ null         ┆ … ┆ 2021         ┆ 5            ┆ 628.32     ┆ 6           │\n",
       "│ 273          ┆ 2664160    ┆ null         ┆ null         ┆ … ┆ 2022         ┆ 6            ┆ 1559.28    ┆ 8           │\n",
       "│ 007          ┆ 200152     ┆ null         ┆ null         ┆ … ┆ 2023         ┆ 3            ┆ 559.2      ┆ 10          │\n",
       "└──────────────┴────────────┴──────────────┴──────────────┴───┴──────────────┴──────────────┴────────────┴─────────────┘"
      ]
     },
     "execution_count": 62,
     "metadata": {},
     "output_type": "execute_result"
    }
   ],
   "source": [
    "house_df.head()"
   ]
  },
  {
   "cell_type": "code",
   "execution_count": 63,
   "id": "79b28ba3-c044-4d21-ae8a-819726d6d5ba",
   "metadata": {},
   "outputs": [],
   "source": [
    "house_df_filter = house_df.filter(pl.col(\"primaryPurpose\").is_in([\"RESIDENCE\", \"DWELLING\", \"HOUSE AND FARM\"]))"
   ]
  },
  {
   "cell_type": "code",
   "execution_count": 64,
   "id": "8a378e34-b6c5-47ab-b5dd-dccf7c1550d8",
   "metadata": {},
   "outputs": [
    {
     "data": {
      "text/html": [
       "<div><style>\n",
       ".dataframe > thead > tr,\n",
       ".dataframe > tbody > tr {\n",
       "  text-align: right;\n",
       "  white-space: pre-wrap;\n",
       "}\n",
       "</style>\n",
       "<small>shape: (5, 20)</small><table border=\"1\" class=\"dataframe\"><thead><tr><th>districtCode</th><th>propertyId</th><th>propertyName</th><th>propertyUnitNumber</th><th>propertyHouseNumber</th><th>propertyStreetName</th><th>propertyLocality</th><th>propertyPostCode</th><th>area</th><th>areaType</th><th>contractDate</th><th>settlementDate</th><th>purchasePrice</th><th>primaryPurpose</th><th>strataLotNumber</th><th>area(m)</th><th>settlementYear</th><th>settlementMonth</th><th>pricePerM2</th><th>uniqueSaleKey</th></tr><tr><td>str</td><td>i64</td><td>str</td><td>str</td><td>str</td><td>str</td><td>str</td><td>str</td><td>f64</td><td>str</td><td>str</td><td>date</td><td>i64</td><td>str</td><td>str</td><td>f64</td><td>i32</td><td>i8</td><td>f64</td><td>i64</td></tr></thead><tbody><tr><td>&quot;223&quot;</td><td>2500291</td><td>null</td><td>null</td><td>&quot;2&quot;</td><td>&quot;KATHERINE ST&quot;</td><td>&quot;CECIL HILLS&quot;</td><td>&quot;2171&quot;</td><td>889.4</td><td>&quot;M&quot;</td><td>&quot;20231202&quot;</td><td>2024-01-29</td><td>1600000</td><td>&quot;RESIDENCE&quot;</td><td>null</td><td>889.4</td><td>2024</td><td>1</td><td>1798.97</td><td>4</td></tr><tr><td>&quot;217&quot;</td><td>2280647</td><td>null</td><td>null</td><td>&quot;17&quot;</td><td>&quot;BOURKE PL&quot;</td><td>&quot;CAMDEN SOUTH&quot;</td><td>&quot;2570&quot;</td><td>809.4</td><td>&quot;M&quot;</td><td>&quot;20210511&quot;</td><td>2021-05-25</td><td>508560</td><td>&quot;RESIDENCE&quot;</td><td>null</td><td>809.4</td><td>2021</td><td>5</td><td>628.32</td><td>6</td></tr><tr><td>&quot;273&quot;</td><td>2664160</td><td>null</td><td>null</td><td>&quot;1&quot;</td><td>&quot;INGEBYRA ST&quot;</td><td>&quot;JINDABYNE&quot;</td><td>&quot;2627&quot;</td><td>853.6</td><td>&quot;M&quot;</td><td>&quot;20220511&quot;</td><td>2022-06-06</td><td>1331000</td><td>&quot;RESIDENCE&quot;</td><td>null</td><td>853.6</td><td>2022</td><td>6</td><td>1559.28</td><td>8</td></tr><tr><td>&quot;007&quot;</td><td>200152</td><td>null</td><td>null</td><td>&quot;25&quot;</td><td>&quot;THOMPSON ST&quot;</td><td>&quot;MUSWELLBROOK&quot;</td><td>&quot;2333&quot;</td><td>701.9</td><td>&quot;M&quot;</td><td>&quot;20230125&quot;</td><td>2023-03-08</td><td>392500</td><td>&quot;RESIDENCE&quot;</td><td>null</td><td>701.9</td><td>2023</td><td>3</td><td>559.2</td><td>10</td></tr><tr><td>&quot;004&quot;</td><td>150249</td><td>null</td><td>null</td><td>&quot;28&quot;</td><td>&quot;OXLEY ST&quot;</td><td>&quot;SWANSEA&quot;</td><td>&quot;2281&quot;</td><td>841.0</td><td>&quot;M&quot;</td><td>&quot;20241004&quot;</td><td>2024-11-01</td><td>1173000</td><td>&quot;RESIDENCE&quot;</td><td>null</td><td>841.0</td><td>2024</td><td>11</td><td>1394.77</td><td>11</td></tr></tbody></table></div>"
      ],
      "text/plain": [
       "shape: (5, 20)\n",
       "┌──────────────┬────────────┬──────────────┬──────────────┬───┬──────────────┬──────────────┬────────────┬─────────────┐\n",
       "│ districtCode ┆ propertyId ┆ propertyName ┆ propertyUnit ┆ … ┆ settlementYe ┆ settlementMo ┆ pricePerM2 ┆ uniqueSaleK │\n",
       "│ ---          ┆ ---        ┆ ---          ┆ Number       ┆   ┆ ar           ┆ nth          ┆ ---        ┆ ey          │\n",
       "│ str          ┆ i64        ┆ str          ┆ ---          ┆   ┆ ---          ┆ ---          ┆ f64        ┆ ---         │\n",
       "│              ┆            ┆              ┆ str          ┆   ┆ i32          ┆ i8           ┆            ┆ i64         │\n",
       "╞══════════════╪════════════╪══════════════╪══════════════╪═══╪══════════════╪══════════════╪════════════╪═════════════╡\n",
       "│ 223          ┆ 2500291    ┆ null         ┆ null         ┆ … ┆ 2024         ┆ 1            ┆ 1798.97    ┆ 4           │\n",
       "│ 217          ┆ 2280647    ┆ null         ┆ null         ┆ … ┆ 2021         ┆ 5            ┆ 628.32     ┆ 6           │\n",
       "│ 273          ┆ 2664160    ┆ null         ┆ null         ┆ … ┆ 2022         ┆ 6            ┆ 1559.28    ┆ 8           │\n",
       "│ 007          ┆ 200152     ┆ null         ┆ null         ┆ … ┆ 2023         ┆ 3            ┆ 559.2      ┆ 10          │\n",
       "│ 004          ┆ 150249     ┆ null         ┆ null         ┆ … ┆ 2024         ┆ 11           ┆ 1394.77    ┆ 11          │\n",
       "└──────────────┴────────────┴──────────────┴──────────────┴───┴──────────────┴──────────────┴────────────┴─────────────┘"
      ]
     },
     "execution_count": 64,
     "metadata": {},
     "output_type": "execute_result"
    }
   ],
   "source": [
    "house_df_filter.head()"
   ]
  },
  {
   "cell_type": "code",
   "execution_count": 65,
   "id": "161a4746-9286-4695-a72c-5afe56796297",
   "metadata": {},
   "outputs": [
    {
     "data": {
      "text/plain": [
       "419496"
      ]
     },
     "execution_count": 65,
     "metadata": {},
     "output_type": "execute_result"
    }
   ],
   "source": [
    "house_df_filter.n_unique()"
   ]
  },
  {
   "cell_type": "code",
   "execution_count": 66,
   "id": "12a59d15-545a-4ae3-8f01-af02a6215440",
   "metadata": {},
   "outputs": [],
   "source": [
    "output_file4 = \"./house.csv\"\n",
    "\n",
    "house_df_filter.write_csv(output_file4)"
   ]
  },
  {
   "cell_type": "code",
   "execution_count": 67,
   "id": "a0bcdd91-7ff7-4078-855b-604f0ee1338e",
   "metadata": {},
   "outputs": [
    {
     "data": {
      "text/html": [
       "<div><style>\n",
       ".dataframe > thead > tr,\n",
       ".dataframe > tbody > tr {\n",
       "  text-align: right;\n",
       "  white-space: pre-wrap;\n",
       "}\n",
       "</style>\n",
       "<small>shape: (12_410, 3)</small><table border=\"1\" class=\"dataframe\"><thead><tr><th>propertyLocality</th><th>settlementYear</th><th>avgPricePerM2</th></tr><tr><td>str</td><td>i32</td><td>f64</td></tr></thead><tbody><tr><td>&quot;AARONS PASS&quot;</td><td>2022</td><td>1.35</td></tr><tr><td>&quot;AARONS PASS&quot;</td><td>2024</td><td>1.0</td></tr><tr><td>&quot;ABBOTSBURY&quot;</td><td>2021</td><td>1781.23</td></tr><tr><td>&quot;ABBOTSBURY&quot;</td><td>2022</td><td>2318.06</td></tr><tr><td>&quot;ABBOTSBURY&quot;</td><td>2023</td><td>2203.31</td></tr><tr><td>&hellip;</td><td>&hellip;</td><td>&hellip;</td></tr><tr><td>&quot;ZARA&quot;</td><td>2024</td><td>7.09</td></tr><tr><td>&quot;ZETLAND&quot;</td><td>2021</td><td>13354.66</td></tr><tr><td>&quot;ZETLAND&quot;</td><td>2022</td><td>11080.24</td></tr><tr><td>&quot;ZETLAND&quot;</td><td>2023</td><td>13850.57</td></tr><tr><td>&quot;ZETLAND&quot;</td><td>2024</td><td>16801.44</td></tr></tbody></table></div>"
      ],
      "text/plain": [
       "shape: (12_410, 3)\n",
       "┌──────────────────┬────────────────┬───────────────┐\n",
       "│ propertyLocality ┆ settlementYear ┆ avgPricePerM2 │\n",
       "│ ---              ┆ ---            ┆ ---           │\n",
       "│ str              ┆ i32            ┆ f64           │\n",
       "╞══════════════════╪════════════════╪═══════════════╡\n",
       "│ AARONS PASS      ┆ 2022           ┆ 1.35          │\n",
       "│ AARONS PASS      ┆ 2024           ┆ 1.0           │\n",
       "│ ABBOTSBURY       ┆ 2021           ┆ 1781.23       │\n",
       "│ ABBOTSBURY       ┆ 2022           ┆ 2318.06       │\n",
       "│ ABBOTSBURY       ┆ 2023           ┆ 2203.31       │\n",
       "│ …                ┆ …              ┆ …             │\n",
       "│ ZARA             ┆ 2024           ┆ 7.09          │\n",
       "│ ZETLAND          ┆ 2021           ┆ 13354.66      │\n",
       "│ ZETLAND          ┆ 2022           ┆ 11080.24      │\n",
       "│ ZETLAND          ┆ 2023           ┆ 13850.57      │\n",
       "│ ZETLAND          ┆ 2024           ┆ 16801.44      │\n",
       "└──────────────────┴────────────────┴───────────────┘"
      ]
     },
     "execution_count": 67,
     "metadata": {},
     "output_type": "execute_result"
    }
   ],
   "source": [
    "house_groupby = house_df_filter.group_by(['propertyLocality', 'settlementYear']).agg(pl.col('pricePerM2').mean().alias('avgPricePerM2').round(2))\n",
    "house_groupby.sort(['propertyLocality', 'settlementYear'])\n"
   ]
  },
  {
   "cell_type": "code",
   "execution_count": 68,
   "id": "0783986a-ea98-4159-9bff-ba2ec7ae3cf6",
   "metadata": {},
   "outputs": [
    {
     "data": {
      "text/html": [
       "<div><style>\n",
       ".dataframe > thead > tr,\n",
       ".dataframe > tbody > tr {\n",
       "  text-align: right;\n",
       "  white-space: pre-wrap;\n",
       "}\n",
       "</style>\n",
       "<small>shape: (5, 3)</small><table border=\"1\" class=\"dataframe\"><thead><tr><th>propertyLocality</th><th>settlementYear</th><th>avgPricePerM2</th></tr><tr><td>str</td><td>i32</td><td>f64</td></tr></thead><tbody><tr><td>&quot;BOSSLEY PARK&quot;</td><td>2022</td><td>1840.17</td></tr><tr><td>&quot;BARRAGANYATTI&quot;</td><td>2021</td><td>11.84</td></tr><tr><td>&quot;NORTH MACKSVILLE&quot;</td><td>2022</td><td>705.97</td></tr><tr><td>&quot;CANOELANDS&quot;</td><td>2022</td><td>17.27</td></tr><tr><td>&quot;FULLERTON&quot;</td><td>2022</td><td>3.55</td></tr></tbody></table></div>"
      ],
      "text/plain": [
       "shape: (5, 3)\n",
       "┌──────────────────┬────────────────┬───────────────┐\n",
       "│ propertyLocality ┆ settlementYear ┆ avgPricePerM2 │\n",
       "│ ---              ┆ ---            ┆ ---           │\n",
       "│ str              ┆ i32            ┆ f64           │\n",
       "╞══════════════════╪════════════════╪═══════════════╡\n",
       "│ BOSSLEY PARK     ┆ 2022           ┆ 1840.17       │\n",
       "│ BARRAGANYATTI    ┆ 2021           ┆ 11.84         │\n",
       "│ NORTH MACKSVILLE ┆ 2022           ┆ 705.97        │\n",
       "│ CANOELANDS       ┆ 2022           ┆ 17.27         │\n",
       "│ FULLERTON        ┆ 2022           ┆ 3.55          │\n",
       "└──────────────────┴────────────────┴───────────────┘"
      ]
     },
     "execution_count": 68,
     "metadata": {},
     "output_type": "execute_result"
    }
   ],
   "source": [
    "house_groupby.head()"
   ]
  },
  {
   "cell_type": "code",
   "execution_count": 69,
   "id": "74931114-981d-487d-b4dd-56a14b1e01d7",
   "metadata": {},
   "outputs": [],
   "source": [
    "output_file5 = \"./house_grouped.csv\"\n",
    "\n",
    "house_groupby.write_csv(output_file5)"
   ]
  },
  {
   "cell_type": "code",
   "execution_count": 70,
   "id": "fa941d05-0d5c-41dc-9a90-00c19b083185",
   "metadata": {},
   "outputs": [],
   "source": [
    "df = pl.read_csv(\"house_grouped.csv\")"
   ]
  },
  {
   "cell_type": "code",
   "execution_count": 71,
   "id": "d996d3a9-a82f-4a24-91ff-1bb031ce9487",
   "metadata": {},
   "outputs": [
    {
     "name": "stderr",
     "output_type": "stream",
     "text": [
      "C:\\Users\\mtklu\\AppData\\Local\\Temp\\ipykernel_16700\\230322041.py:1: DeprecationWarning: The argument `columns` for `DataFrame.pivot` is deprecated. It has been renamed to `on`.\n",
      "  house_pivot_df = df.pivot(\n"
     ]
    }
   ],
   "source": [
    "house_pivot_df = df.pivot(\n",
    "    index=\"propertyLocality\",\n",
    "    columns=\"settlementYear\",\n",
    "    values=\"avgPricePerM2\",\n",
    "    aggregate_function=None  # Use this if you need to aggregate duplicate entries\n",
    ")"
   ]
  },
  {
   "cell_type": "code",
   "execution_count": 72,
   "id": "0b4dd601-89b6-4f60-8c46-22e1e190754a",
   "metadata": {},
   "outputs": [],
   "source": [
    "house_pivot_df = house_pivot_df[[\"propertyLocality\", \"2021\", \"2022\", \"2023\", \"2024\"]]"
   ]
  },
  {
   "cell_type": "code",
   "execution_count": 73,
   "id": "2d5643c0-0f80-4ba0-87c2-4844a06ced81",
   "metadata": {},
   "outputs": [
    {
     "data": {
      "text/html": [
       "<div><style>\n",
       ".dataframe > thead > tr,\n",
       ".dataframe > tbody > tr {\n",
       "  text-align: right;\n",
       "  white-space: pre-wrap;\n",
       "}\n",
       "</style>\n",
       "<small>shape: (5, 5)</small><table border=\"1\" class=\"dataframe\"><thead><tr><th>propertyLocality</th><th>2021</th><th>2022</th><th>2023</th><th>2024</th></tr><tr><td>str</td><td>f64</td><td>f64</td><td>f64</td><td>f64</td></tr></thead><tbody><tr><td>&quot;BOSSLEY PARK&quot;</td><td>1709.53</td><td>1840.17</td><td>1876.51</td><td>2152.69</td></tr><tr><td>&quot;BARRAGANYATTI&quot;</td><td>11.84</td><td>7.13</td><td>7.4</td><td>1.6</td></tr><tr><td>&quot;NORTH MACKSVILLE&quot;</td><td>294.21</td><td>705.97</td><td>641.89</td><td>552.09</td></tr><tr><td>&quot;CANOELANDS&quot;</td><td>19.78</td><td>17.27</td><td>21.23</td><td>18.73</td></tr><tr><td>&quot;FULLERTON&quot;</td><td>null</td><td>3.55</td><td>0.76</td><td>2.14</td></tr></tbody></table></div>"
      ],
      "text/plain": [
       "shape: (5, 5)\n",
       "┌──────────────────┬─────────┬─────────┬─────────┬─────────┐\n",
       "│ propertyLocality ┆ 2021    ┆ 2022    ┆ 2023    ┆ 2024    │\n",
       "│ ---              ┆ ---     ┆ ---     ┆ ---     ┆ ---     │\n",
       "│ str              ┆ f64     ┆ f64     ┆ f64     ┆ f64     │\n",
       "╞══════════════════╪═════════╪═════════╪═════════╪═════════╡\n",
       "│ BOSSLEY PARK     ┆ 1709.53 ┆ 1840.17 ┆ 1876.51 ┆ 2152.69 │\n",
       "│ BARRAGANYATTI    ┆ 11.84   ┆ 7.13    ┆ 7.4     ┆ 1.6     │\n",
       "│ NORTH MACKSVILLE ┆ 294.21  ┆ 705.97  ┆ 641.89  ┆ 552.09  │\n",
       "│ CANOELANDS       ┆ 19.78   ┆ 17.27   ┆ 21.23   ┆ 18.73   │\n",
       "│ FULLERTON        ┆ null    ┆ 3.55    ┆ 0.76    ┆ 2.14    │\n",
       "└──────────────────┴─────────┴─────────┴─────────┴─────────┘"
      ]
     },
     "execution_count": 73,
     "metadata": {},
     "output_type": "execute_result"
    }
   ],
   "source": [
    "house_pivot_df.head()"
   ]
  },
  {
   "cell_type": "code",
   "execution_count": 74,
   "id": "0d2a9ffb-3e8f-434f-baa9-b106aab9b23a",
   "metadata": {},
   "outputs": [],
   "source": [
    "output_file_units = \"Data/houses_data.csv\"\n",
    "\n",
    "house_pivot_df.write_csv(output_file_units)"
   ]
  },
  {
   "cell_type": "code",
   "execution_count": null,
   "id": "67b3def4-fe37-4db9-91af-9c8dcd78b947",
   "metadata": {},
   "outputs": [],
   "source": []
  }
 ],
 "metadata": {
  "kernelspec": {
   "display_name": "Python 3 (ipykernel)",
   "language": "python",
   "name": "python3"
  },
  "language_info": {
   "codemirror_mode": {
    "name": "ipython",
    "version": 3
   },
   "file_extension": ".py",
   "mimetype": "text/x-python",
   "name": "python",
   "nbconvert_exporter": "python",
   "pygments_lexer": "ipython3",
   "version": "3.10.14"
  }
 },
 "nbformat": 4,
 "nbformat_minor": 5
}
