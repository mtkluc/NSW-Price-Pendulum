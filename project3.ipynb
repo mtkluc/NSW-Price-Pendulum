{
 "cells": [
  {
   "cell_type": "code",
   "execution_count": 77,
   "id": "6a9a859f-d429-456a-acc3-b423d0731bfc",
   "metadata": {},
   "outputs": [],
   "source": [
    "import polars as pl\n",
    "import csv\n",
    "import glob\n",
    "import os"
   ]
  },
  {
   "cell_type": "code",
   "execution_count": 78,
   "id": "379ce2cc-7e7a-49fa-86e0-b55de98a63d4",
   "metadata": {},
   "outputs": [],
   "source": [
    "def clean_file(input_path, output_path):\n",
    "    with open(input_path, \"r\", encoding=\"utf-8\") as infile, open(output_path, \"w\", encoding=\"utf-8\") as outfile:\n",
    "        reader = csv.reader(infile, delimiter=\";\", quotechar='\"', escapechar=\"\\\\\")\n",
    "        writer = csv.writer(outfile, delimiter=\";\", quotechar='\"', escapechar=\"\\\\\", quoting=csv.QUOTE_MINIMAL)\n",
    "        \n",
    "        for row in reader:\n",
    "            if row.count('\"') % 2 != 0:  \n",
    "                continue\n",
    "            max_columns = 24  \n",
    "            row = row[:max_columns] + [\"\"] * (max_columns - len(row))\n",
    "            writer.writerow(row)"
   ]
  },
  {
   "cell_type": "code",
   "execution_count": 79,
   "id": "6cd5f5fd-1f1e-43af-9bd0-7822f2c60374",
   "metadata": {},
   "outputs": [],
   "source": [
    "extract_folder = \"extract\"\n",
    "cleaned_folder = \"cleaned\""
   ]
  },
  {
   "cell_type": "code",
   "execution_count": 80,
   "id": "06ac27a4-8389-4fb0-8835-e4d091dcfc94",
   "metadata": {},
   "outputs": [
    {
     "name": "stdout",
     "output_type": "stream",
     "text": [
      "Number of .dat files found: 25176\n"
     ]
    }
   ],
   "source": [
    "dat_files = glob.glob(f\"{extract_folder}/*.dat\")\n",
    "print(f\"Number of .dat files found: {len(dat_files)}\")"
   ]
  },
  {
   "cell_type": "code",
   "execution_count": 81,
   "id": "8b4bfacd-3269-4de0-868a-6cf20c0d269e",
   "metadata": {},
   "outputs": [],
   "source": [
    "os.makedirs(cleaned_folder, exist_ok=True)\n",
    "\n",
    "dat_files = glob.glob(f\"{extract_folder}/*.dat\")\n",
    "\n",
    "for file in dat_files:\n",
    "    cleaned_path = os.path.join(cleaned_folder, os.path.basename(file))\n",
    "    clean_file(file, cleaned_path)"
   ]
  },
  {
   "cell_type": "code",
   "execution_count": 82,
   "id": "cfd2b853-a307-4149-9be3-f6a9abcaad57",
   "metadata": {},
   "outputs": [],
   "source": [
    "df_list = []\n",
    "df_schema = {\n",
    "    'Record Type': pl.Utf8,\n",
    "    'District Code': pl.Utf8,\n",
    "    'Property Id.': pl.Utf8,\n",
    "    'Sale Counter': pl.Utf8,\n",
    "    'Download Datetime': pl.Utf8,\n",
    "    'Property Name': pl.Utf8,\n",
    "    'Property Unit Number': pl.Utf8,\n",
    "    'Property House Number': pl.Utf8,\n",
    "    'Property Street Name': pl.Utf8,\n",
    "    'Property Locality': pl.Utf8,\n",
    "    'Property Post Code': pl.Utf8,\n",
    "    'Area': pl.Utf8,\n",
    "    'Area Type': pl.Utf8,\n",
    "    'Contract Date': pl.Utf8,\n",
    "    'Settlement Date': pl.Utf8,\n",
    "    'Purchase Price': pl.Utf8,\n",
    "    'Zoning': pl.Utf8,\n",
    "    'Nature of Property': pl.Utf8,\n",
    "    'Primary Purpose': pl.Utf8,\n",
    "    'Strata Lot Number': pl.Utf8,\n",
    "    'Component code': pl.Utf8,\n",
    "    'Sale Code': pl.Utf8,\n",
    "    '% Interest of Sale': pl.Utf8,\n",
    "    'Dealing Number': pl.Utf8\n",
    "}"
   ]
  },
  {
   "cell_type": "code",
   "execution_count": 85,
   "id": "e97876ec-7364-4634-b7f8-009c1d996923",
   "metadata": {},
   "outputs": [],
   "source": [
    "dat_cleaned = glob.glob(f\"{cleaned_folder}/*.dat\")\n",
    "for file in dat_cleaned:\n",
    "    try:\n",
    "        df = pl.read_csv(\n",
    "            file,\n",
    "            separator=\";\",\n",
    "            has_header=False,\n",
    "            schema = df_schema,\n",
    "            truncate_ragged_lines=True,\n",
    "            ignore_errors=True\n",
    "        ).with_columns(\n",
    "            [pl.col(column).cast(pl.Utf8) for column in df_schema.keys()])\n",
    "        df_list.append(df)\n",
    "    except Exception as e:\n",
    "        print(f\"Error reading {file}: {e}\")"
   ]
  },
  {
   "cell_type": "code",
   "execution_count": 86,
   "id": "35bb83fb-07ac-429c-8dbe-05cf7e0e5ff4",
   "metadata": {
    "scrolled": true
   },
   "outputs": [
    {
     "name": "stdout",
     "output_type": "stream",
     "text": [
      "Filtered data saved to 'filtered_data.csv'.\n"
     ]
    }
   ],
   "source": [
    "if df_list:\n",
    "    try:\n",
    "        df_combined = pl.concat(df_list)\n",
    "        df_filtered = df_combined.filter(pl.col(\"Record Type\") == \"B\")\n",
    "        df_filtered.write_csv(\"filtered_data.csv\")\n",
    "        print(\"Filtered data saved to 'filtered_data.csv'.\")\n",
    "    except Exception as e:\n",
    "        print(f\"Error during concatenation or filtering: {e}\")\n",
    "else:\n",
    "    print(\"No valid DataFrames to process.\")"
   ]
  },
  {
   "cell_type": "code",
   "execution_count": 240,
   "id": "84c73113-2758-4a41-ad4f-0b47e75bc75b",
   "metadata": {},
   "outputs": [
    {
     "data": {
      "text/html": [
       "<div><style>\n",
       ".dataframe > thead > tr,\n",
       ".dataframe > tbody > tr {\n",
       "  text-align: right;\n",
       "  white-space: pre-wrap;\n",
       "}\n",
       "</style>\n",
       "<small>shape: (5, 24)</small><table border=\"1\" class=\"dataframe\"><thead><tr><th>Record Type</th><th>District Code</th><th>Property Id.</th><th>Sale Counter</th><th>Download Datetime</th><th>Property Name</th><th>Property Unit Number</th><th>Property House Number</th><th>Property Street Name</th><th>Property Locality</th><th>Property Post Code</th><th>Area</th><th>Area Type</th><th>Contract Date</th><th>Settlement Date</th><th>Purchase Price</th><th>Zoning</th><th>Nature of Property</th><th>Primary Purpose</th><th>Strata Lot Number</th><th>Component code</th><th>Sale Code</th><th>% Interest of Sale</th><th>Dealing Number</th></tr><tr><td>str</td><td>str</td><td>str</td><td>str</td><td>str</td><td>str</td><td>str</td><td>str</td><td>str</td><td>str</td><td>str</td><td>str</td><td>str</td><td>str</td><td>str</td><td>str</td><td>str</td><td>str</td><td>str</td><td>str</td><td>str</td><td>str</td><td>str</td><td>str</td></tr></thead><tbody><tr><td>&quot;B&quot;</td><td>&quot;001&quot;</td><td>&quot;2857799&quot;</td><td>&quot;1&quot;</td><td>&quot;20240101 01:07&quot;</td><td>null</td><td>null</td><td>&quot;176&quot;</td><td>&quot;LAKE RD&quot;</td><td>&quot;ELRINGTON&quot;</td><td>&quot;2325&quot;</td><td>&quot;25.15&quot;</td><td>&quot;H&quot;</td><td>&quot;20231219&quot;</td><td>&quot;20231222&quot;</td><td>&quot;1330000&quot;</td><td>&quot;RU2&quot;</td><td>&quot;R&quot;</td><td>&quot;RESIDENCE&quot;</td><td>null</td><td>&quot;RAN&quot;</td><td>null</td><td>&quot;0&quot;</td><td>&quot;AT729586\r",
       "&quot;</td></tr><tr><td>&quot;B&quot;</td><td>&quot;001&quot;</td><td>&quot;4228&quot;</td><td>&quot;2&quot;</td><td>&quot;20240101 01:07&quot;</td><td>null</td><td>null</td><td>&quot;2&quot;</td><td>&quot;KING ST&quot;</td><td>&quot;BRANXTON&quot;</td><td>&quot;2335&quot;</td><td>&quot;1864&quot;</td><td>&quot;M&quot;</td><td>&quot;20231115&quot;</td><td>&quot;20231222&quot;</td><td>&quot;850000&quot;</td><td>&quot;R3&quot;</td><td>&quot;R&quot;</td><td>&quot;RESIDENCE&quot;</td><td>null</td><td>&quot;MAB&quot;</td><td>null</td><td>&quot;0&quot;</td><td>&quot;AT731473\r",
       "&quot;</td></tr><tr><td>&quot;B&quot;</td><td>&quot;001&quot;</td><td>&quot;7750&quot;</td><td>&quot;3&quot;</td><td>&quot;20240101 01:07&quot;</td><td>null</td><td>null</td><td>&quot;275&quot;</td><td>&quot;MAITLAND RD&quot;</td><td>&quot;CESSNOCK&quot;</td><td>&quot;2325&quot;</td><td>&quot;379.8&quot;</td><td>&quot;M&quot;</td><td>&quot;20231026&quot;</td><td>&quot;20231222&quot;</td><td>&quot;500000&quot;</td><td>&quot;R3&quot;</td><td>&quot;3&quot;</td><td>&quot;SHOP&quot;</td><td>null</td><td>&quot;MAA&quot;</td><td>null</td><td>&quot;0&quot;</td><td>&quot;AT729914\r",
       "&quot;</td></tr><tr><td>&quot;B&quot;</td><td>&quot;001&quot;</td><td>&quot;11439&quot;</td><td>&quot;4&quot;</td><td>&quot;20240101 01:07&quot;</td><td>null</td><td>null</td><td>&quot;19&quot;</td><td>&quot;DEAKIN ST&quot;</td><td>&quot;KURRI KURRI&quot;</td><td>&quot;2327&quot;</td><td>&quot;1682&quot;</td><td>&quot;M&quot;</td><td>&quot;20231103&quot;</td><td>&quot;20231222&quot;</td><td>&quot;575000&quot;</td><td>&quot;R2&quot;</td><td>&quot;R&quot;</td><td>&quot;RESIDENCE&quot;</td><td>null</td><td>&quot;AAO&quot;</td><td>null</td><td>&quot;0&quot;</td><td>&quot;AT731374\r",
       "&quot;</td></tr><tr><td>&quot;B&quot;</td><td>&quot;001&quot;</td><td>&quot;18319&quot;</td><td>&quot;5&quot;</td><td>&quot;20240101 01:07&quot;</td><td>null</td><td>null</td><td>&quot;700&quot;</td><td>&quot;MILSONS ARM RD&quot;</td><td>&quot;WOLLOMBI&quot;</td><td>&quot;2325&quot;</td><td>&quot;31.77&quot;</td><td>&quot;H&quot;</td><td>&quot;20231218&quot;</td><td>&quot;20231222&quot;</td><td>&quot;236667&quot;</td><td>&quot;RU2&quot;</td><td>&quot;R&quot;</td><td>&quot;RESIDENCE&quot;</td><td>null</td><td>&quot;RAG&quot;</td><td>null</td><td>&quot;0&quot;</td><td>&quot;AT733421\r",
       "&quot;</td></tr></tbody></table></div>"
      ],
      "text/plain": [
       "shape: (5, 24)\n",
       "┌─────────────┬──────────┬──────────────┬──────────────┬───┬───────────┬───────────┬────────────────────┬───────────┐\n",
       "│ Record Type ┆ District ┆ Property Id. ┆ Sale Counter ┆ … ┆ Component ┆ Sale Code ┆ % Interest of Sale ┆ Dealing   │\n",
       "│ ---         ┆ Code     ┆ ---          ┆ ---          ┆   ┆ code      ┆ ---       ┆ ---                ┆ Number    │\n",
       "│ str         ┆ ---      ┆ str          ┆ str          ┆   ┆ ---       ┆ str       ┆ str                ┆ ---       │\n",
       "│             ┆ str      ┆              ┆              ┆   ┆ str       ┆           ┆                    ┆ str       │\n",
       "╞═════════════╪══════════╪══════════════╪══════════════╪═══╪═══════════╪═══════════╪════════════════════╪═══════════╡\n",
       "│ B           ┆ 001      ┆ 2857799      ┆ 1            ┆ … ┆ RAN       ┆ null      ┆ 0                  ┆ AT729586\n",
       " │\n",
       "│ B           ┆ 001      ┆ 4228         ┆ 2            ┆ … ┆ MAB       ┆ null      ┆ 0                  ┆ AT731473\n",
       " │\n",
       "│ B           ┆ 001      ┆ 7750         ┆ 3            ┆ … ┆ MAA       ┆ null      ┆ 0                  ┆ AT729914\n",
       " │\n",
       "│ B           ┆ 001      ┆ 11439        ┆ 4            ┆ … ┆ AAO       ┆ null      ┆ 0                  ┆ AT731374\n",
       " │\n",
       "│ B           ┆ 001      ┆ 18319        ┆ 5            ┆ … ┆ RAG       ┆ null      ┆ 0                  ┆ AT733421\n",
       " │\n",
       "└─────────────┴──────────┴──────────────┴──────────────┴───┴───────────┴───────────┴────────────────────┴───────────┘"
      ]
     },
     "execution_count": 240,
     "metadata": {},
     "output_type": "execute_result"
    }
   ],
   "source": [
    "df_filtered.head()"
   ]
  },
  {
   "cell_type": "code",
   "execution_count": 241,
   "id": "e3f3963b-6515-4f8d-9a8b-d3c933a374b1",
   "metadata": {},
   "outputs": [],
   "source": [
    "df_cleaning = df_filtered.with_columns(\n",
    "    pl.col(\"Contract Date\").str.strptime(pl.Date, \"%Y%m%d\", strict=False).alias(\"Contract Date\")\n",
    ")"
   ]
  },
  {
   "cell_type": "code",
   "execution_count": 242,
   "id": "1d15929c-9721-4078-a59c-8dba2ba92770",
   "metadata": {},
   "outputs": [],
   "source": [
    "df_cleaning = df_cleaning.select('District Code',\n",
    "                            'Property Id.',\n",
    "                            'Property Name',\n",
    "                            'Property Unit Number',\n",
    "                            'Property House Number',\n",
    "                            'Property Street Name',\n",
    "                            'Property Locality',\n",
    "                            'Property Post Code',\n",
    "                            'Area',\n",
    "                            'Area Type',\n",
    "                            'Contract Date',\n",
    "                            'Settlement Date',\n",
    "                            'Purchase Price',\n",
    "                            'Primary Purpose',\n",
    "                            'Strata Lot Number')"
   ]
  },
  {
   "cell_type": "code",
   "execution_count": 243,
   "id": "a854fe2e-596f-466a-b953-6b8a0cdb9921",
   "metadata": {},
   "outputs": [],
   "source": [
    "df_cleaning = df_cleaning.with_columns(pl.col(\"Area\").cast(pl.Float64).alias(\"Area\"))"
   ]
  },
  {
   "cell_type": "code",
   "execution_count": 244,
   "id": "d21a53e2-d0b4-4269-b272-e07978377058",
   "metadata": {},
   "outputs": [],
   "source": [
    "df_cleaning = df_cleaning.with_columns(\n",
    "    pl.when(pl.col('Area Type') == 'M')\n",
    "     .then(pl.col('Area').cast(pl.Float64))\n",
    "     .when(pl.col('Area Type') == 'H')\n",
    "     .then(pl.col('Area').cast(pl.Float64) * 10000)\n",
    "     .otherwise(None)\n",
    "     .alias('Area (m)')\n",
    ")"
   ]
  },
  {
   "cell_type": "code",
   "execution_count": 245,
   "id": "add13404-dab9-492b-9d74-6fa10d9673a5",
   "metadata": {},
   "outputs": [],
   "source": [
    "df_cleaning = df_cleaning.with_columns(pl.col(\"Purchase Price\").cast(pl.Int64).alias(\"Purchase Price\"))"
   ]
  },
  {
   "cell_type": "code",
   "execution_count": 246,
   "id": "1edcf0e5-c230-4348-beec-ea2dece41f5d",
   "metadata": {},
   "outputs": [],
   "source": [
    "df_cleaning = df_cleaning.with_columns(pl.col(\"Property Id.\").cast(pl.Int64).alias(\"Property Id.\"))"
   ]
  },
  {
   "cell_type": "code",
   "execution_count": 247,
   "id": "5fd5afca-5879-4534-bab0-167cd12ddb54",
   "metadata": {},
   "outputs": [],
   "source": [
    "df_cleaning = df_cleaning.with_columns(\n",
    "    pl.col(\"Settlement Date\").str.strptime(pl.Date, \"%Y%m%d\", strict=False).alias(\"Settlement Date\")\n",
    ")"
   ]
  },
  {
   "cell_type": "code",
   "execution_count": 248,
   "id": "df8f8d0b-a1e4-49eb-b5b5-38f8d3545949",
   "metadata": {},
   "outputs": [],
   "source": [
    "df_cleaning = df_cleaning.with_columns([\n",
    "    pl.col('Settlement Date').dt.year().alias('Settlement Year'),\n",
    "    pl.col('Settlement Date').dt.month().alias('Settlement Month')\n",
    "])\n"
   ]
  },
  {
   "cell_type": "code",
   "execution_count": 249,
   "id": "98b7aa2d-ce86-46dc-a5d9-00c1ab1aa259",
   "metadata": {},
   "outputs": [],
   "source": [
    "df_cleaning = df_cleaning.filter(\n",
    "    pl.col('Settlement Year') >= 2021\n",
    ")"
   ]
  },
  {
   "cell_type": "code",
   "execution_count": 250,
   "id": "7e713820-bf2a-482d-86ef-555be9f43563",
   "metadata": {},
   "outputs": [],
   "source": [
    "df_cleaning = df_cleaning.with_columns((pl.col(\"Purchase Price\") / pl.col(\"Area (m)\")).alias(\"Price per m^2\").round(2))"
   ]
  },
  {
   "cell_type": "code",
   "execution_count": 251,
   "id": "82144f60-85a5-4b39-bbf3-755935f0ddd1",
   "metadata": {},
   "outputs": [
    {
     "data": {
      "text/html": [
       "<div><style>\n",
       ".dataframe > thead > tr,\n",
       ".dataframe > tbody > tr {\n",
       "  text-align: right;\n",
       "  white-space: pre-wrap;\n",
       "}\n",
       "</style>\n",
       "<small>shape: (5, 19)</small><table border=\"1\" class=\"dataframe\"><thead><tr><th>District Code</th><th>Property Id.</th><th>Property Name</th><th>Property Unit Number</th><th>Property House Number</th><th>Property Street Name</th><th>Property Locality</th><th>Property Post Code</th><th>Area</th><th>Area Type</th><th>Contract Date</th><th>Settlement Date</th><th>Purchase Price</th><th>Primary Purpose</th><th>Strata Lot Number</th><th>Area (m)</th><th>Settlement Year</th><th>Settlement Month</th><th>Price per m^2</th></tr><tr><td>str</td><td>i64</td><td>str</td><td>str</td><td>str</td><td>str</td><td>str</td><td>str</td><td>f64</td><td>str</td><td>date</td><td>date</td><td>i64</td><td>str</td><td>str</td><td>f64</td><td>i32</td><td>i8</td><td>f64</td></tr></thead><tbody><tr><td>&quot;001&quot;</td><td>2857799</td><td>null</td><td>null</td><td>&quot;176&quot;</td><td>&quot;LAKE RD&quot;</td><td>&quot;ELRINGTON&quot;</td><td>&quot;2325&quot;</td><td>25.15</td><td>&quot;H&quot;</td><td>2023-12-19</td><td>2023-12-22</td><td>1330000</td><td>&quot;RESIDENCE&quot;</td><td>null</td><td>251500.0</td><td>2023</td><td>12</td><td>5.29</td></tr><tr><td>&quot;001&quot;</td><td>4228</td><td>null</td><td>null</td><td>&quot;2&quot;</td><td>&quot;KING ST&quot;</td><td>&quot;BRANXTON&quot;</td><td>&quot;2335&quot;</td><td>1864.0</td><td>&quot;M&quot;</td><td>2023-11-15</td><td>2023-12-22</td><td>850000</td><td>&quot;RESIDENCE&quot;</td><td>null</td><td>1864.0</td><td>2023</td><td>12</td><td>456.01</td></tr><tr><td>&quot;001&quot;</td><td>7750</td><td>null</td><td>null</td><td>&quot;275&quot;</td><td>&quot;MAITLAND RD&quot;</td><td>&quot;CESSNOCK&quot;</td><td>&quot;2325&quot;</td><td>379.8</td><td>&quot;M&quot;</td><td>2023-10-26</td><td>2023-12-22</td><td>500000</td><td>&quot;SHOP&quot;</td><td>null</td><td>379.8</td><td>2023</td><td>12</td><td>1316.48</td></tr><tr><td>&quot;001&quot;</td><td>11439</td><td>null</td><td>null</td><td>&quot;19&quot;</td><td>&quot;DEAKIN ST&quot;</td><td>&quot;KURRI KURRI&quot;</td><td>&quot;2327&quot;</td><td>1682.0</td><td>&quot;M&quot;</td><td>2023-11-03</td><td>2023-12-22</td><td>575000</td><td>&quot;RESIDENCE&quot;</td><td>null</td><td>1682.0</td><td>2023</td><td>12</td><td>341.85</td></tr><tr><td>&quot;001&quot;</td><td>18319</td><td>null</td><td>null</td><td>&quot;700&quot;</td><td>&quot;MILSONS ARM RD&quot;</td><td>&quot;WOLLOMBI&quot;</td><td>&quot;2325&quot;</td><td>31.77</td><td>&quot;H&quot;</td><td>2023-12-18</td><td>2023-12-22</td><td>236667</td><td>&quot;RESIDENCE&quot;</td><td>null</td><td>317700.0</td><td>2023</td><td>12</td><td>0.74</td></tr></tbody></table></div>"
      ],
      "text/plain": [
       "shape: (5, 19)\n",
       "┌──────────┬──────────────┬──────────┬───────────────┬───┬──────────┬────────────┬────────────┬───────────────┐\n",
       "│ District ┆ Property Id. ┆ Property ┆ Property Unit ┆ … ┆ Area (m) ┆ Settlement ┆ Settlement ┆ Price per m^2 │\n",
       "│ Code     ┆ ---          ┆ Name     ┆ Number        ┆   ┆ ---      ┆ Year       ┆ Month      ┆ ---           │\n",
       "│ ---      ┆ i64          ┆ ---      ┆ ---           ┆   ┆ f64      ┆ ---        ┆ ---        ┆ f64           │\n",
       "│ str      ┆              ┆ str      ┆ str           ┆   ┆          ┆ i32        ┆ i8         ┆               │\n",
       "╞══════════╪══════════════╪══════════╪═══════════════╪═══╪══════════╪════════════╪════════════╪═══════════════╡\n",
       "│ 001      ┆ 2857799      ┆ null     ┆ null          ┆ … ┆ 251500.0 ┆ 2023       ┆ 12         ┆ 5.29          │\n",
       "│ 001      ┆ 4228         ┆ null     ┆ null          ┆ … ┆ 1864.0   ┆ 2023       ┆ 12         ┆ 456.01        │\n",
       "│ 001      ┆ 7750         ┆ null     ┆ null          ┆ … ┆ 379.8    ┆ 2023       ┆ 12         ┆ 1316.48       │\n",
       "│ 001      ┆ 11439        ┆ null     ┆ null          ┆ … ┆ 1682.0   ┆ 2023       ┆ 12         ┆ 341.85        │\n",
       "│ 001      ┆ 18319        ┆ null     ┆ null          ┆ … ┆ 317700.0 ┆ 2023       ┆ 12         ┆ 0.74          │\n",
       "└──────────┴──────────────┴──────────┴───────────────┴───┴──────────┴────────────┴────────────┴───────────────┘"
      ]
     },
     "execution_count": 251,
     "metadata": {},
     "output_type": "execute_result"
    }
   ],
   "source": [
    "df_cleaning.head()"
   ]
  },
  {
   "cell_type": "code",
   "execution_count": 252,
   "id": "62dc1995-2b34-4da5-85df-bbd40de60465",
   "metadata": {},
   "outputs": [
    {
     "data": {
      "text/plain": [
       "<bound method DataFrame.n_unique of shape: (806_780, 19)\n",
       "┌──────────┬──────────────┬───────────┬──────────────────────┬───┬────────────┬────────────┬────────────┬───────────┐\n",
       "│ District ┆ Property Id. ┆ Property  ┆ Property Unit Number ┆ … ┆ Area (m)   ┆ Settlement ┆ Settlement ┆ Price per │\n",
       "│ Code     ┆ ---          ┆ Name      ┆ ---                  ┆   ┆ ---        ┆ Year       ┆ Month      ┆ m^2       │\n",
       "│ ---      ┆ i64          ┆ ---       ┆ str                  ┆   ┆ f64        ┆ ---        ┆ ---        ┆ ---       │\n",
       "│ str      ┆              ┆ str       ┆                      ┆   ┆            ┆ i32        ┆ i8         ┆ f64       │\n",
       "╞══════════╪══════════════╪═══════════╪══════════════════════╪═══╪════════════╪════════════╪════════════╪═══════════╡\n",
       "│ 001      ┆ 2857799      ┆ null      ┆ null                 ┆ … ┆ 251500.0   ┆ 2023       ┆ 12         ┆ 5.29      │\n",
       "│ 001      ┆ 4228         ┆ null      ┆ null                 ┆ … ┆ 1864.0     ┆ 2023       ┆ 12         ┆ 456.01    │\n",
       "│ 001      ┆ 7750         ┆ null      ┆ null                 ┆ … ┆ 379.8      ┆ 2023       ┆ 12         ┆ 1316.48   │\n",
       "│ 001      ┆ 11439        ┆ null      ┆ null                 ┆ … ┆ 1682.0     ┆ 2023       ┆ 12         ┆ 341.85    │\n",
       "│ 001      ┆ 18319        ┆ null      ┆ null                 ┆ … ┆ 317700.0   ┆ 2023       ┆ 12         ┆ 0.74      │\n",
       "│ …        ┆ …            ┆ …         ┆ …                    ┆ … ┆ …          ┆ …          ┆ …          ┆ …         │\n",
       "│ 902      ┆ 3674866      ┆ GUM PARK  ┆ null                 ┆ … ┆ 2.709619e8 ┆ 2024       ┆ 6          ┆ 0.02      │\n",
       "│          ┆              ┆ STATION   ┆                      ┆   ┆            ┆            ┆            ┆           │\n",
       "│ 902      ┆ 3263973      ┆ null      ┆ null                 ┆ … ┆ 1.0633e8   ┆ 2024       ┆ 4          ┆ 0.02      │\n",
       "│ 902      ┆ 3478967      ┆ ROCKWELL  ┆ null                 ┆ … ┆ 4047.0     ┆ 2023       ┆ 10         ┆ 8.65      │\n",
       "│ 902      ┆ 3475447      ┆ null      ┆ null                 ┆ … ┆ 9.232e7    ┆ 2023       ┆ 7          ┆ 0.02      │\n",
       "│ 902      ┆ 3475452      ┆ RAVENDALE ┆ null                 ┆ … ┆ 2.8824e8   ┆ 2023       ┆ 7          ┆ 0.02      │\n",
       "│          ┆              ┆ STATION   ┆                      ┆   ┆            ┆            ┆            ┆           │\n",
       "└──────────┴──────────────┴───────────┴──────────────────────┴───┴────────────┴────────────┴────────────┴───────────┘>"
      ]
     },
     "execution_count": 252,
     "metadata": {},
     "output_type": "execute_result"
    }
   ],
   "source": [
    "df_cleaning.n_unique"
   ]
  },
  {
   "cell_type": "code",
   "execution_count": 253,
   "id": "c8af2c7f-5726-4c76-9b80-0d3c8801582a",
   "metadata": {},
   "outputs": [],
   "source": [
    "unit_df = df_cleaning.filter((pl.col(\"Property Unit Number\") != \"null\") | (pl.col(\"Strata Lot Number\") != \"null\"))"
   ]
  },
  {
   "cell_type": "code",
   "execution_count": 254,
   "id": "aca4cd15-013f-49b7-b86a-ebec10524b9b",
   "metadata": {},
   "outputs": [
    {
     "data": {
      "text/html": [
       "<div><style>\n",
       ".dataframe > thead > tr,\n",
       ".dataframe > tbody > tr {\n",
       "  text-align: right;\n",
       "  white-space: pre-wrap;\n",
       "}\n",
       "</style>\n",
       "<small>shape: (5, 19)</small><table border=\"1\" class=\"dataframe\"><thead><tr><th>District Code</th><th>Property Id.</th><th>Property Name</th><th>Property Unit Number</th><th>Property House Number</th><th>Property Street Name</th><th>Property Locality</th><th>Property Post Code</th><th>Area</th><th>Area Type</th><th>Contract Date</th><th>Settlement Date</th><th>Purchase Price</th><th>Primary Purpose</th><th>Strata Lot Number</th><th>Area (m)</th><th>Settlement Year</th><th>Settlement Month</th><th>Price per m^2</th></tr><tr><td>str</td><td>i64</td><td>str</td><td>str</td><td>str</td><td>str</td><td>str</td><td>str</td><td>f64</td><td>str</td><td>date</td><td>date</td><td>i64</td><td>str</td><td>str</td><td>f64</td><td>i32</td><td>i8</td><td>f64</td></tr></thead><tbody><tr><td>&quot;001&quot;</td><td>3691928</td><td>null</td><td>&quot;1&quot;</td><td>&quot;18&quot;</td><td>&quot;FAIRVIEW PL&quot;</td><td>&quot;CESSNOCK&quot;</td><td>&quot;2325&quot;</td><td>null</td><td>null</td><td>2023-11-10</td><td>2023-12-22</td><td>1550000</td><td>&quot;RESIDENCE&quot;</td><td>&quot;1&quot;</td><td>null</td><td>2023</td><td>12</td><td>null</td></tr><tr><td>&quot;001&quot;</td><td>3691928</td><td>null</td><td>&quot;2&quot;</td><td>&quot;18&quot;</td><td>&quot;FAIRVIEW PL&quot;</td><td>&quot;CESSNOCK&quot;</td><td>&quot;2325&quot;</td><td>null</td><td>null</td><td>2023-11-10</td><td>2023-12-22</td><td>1550000</td><td>&quot;RESIDENCE&quot;</td><td>&quot;2&quot;</td><td>null</td><td>2023</td><td>12</td><td>null</td></tr><tr><td>&quot;001&quot;</td><td>3691928</td><td>null</td><td>&quot;3&quot;</td><td>&quot;18&quot;</td><td>&quot;FAIRVIEW PL&quot;</td><td>&quot;CESSNOCK&quot;</td><td>&quot;2325&quot;</td><td>null</td><td>null</td><td>2023-11-10</td><td>2023-12-22</td><td>1550000</td><td>&quot;RESIDENCE&quot;</td><td>&quot;3&quot;</td><td>null</td><td>2023</td><td>12</td><td>null</td></tr><tr><td>&quot;001&quot;</td><td>3799095</td><td>null</td><td>&quot;1&quot;</td><td>&quot;24 A&quot;</td><td>&quot;ZINFANDEL CCT&quot;</td><td>&quot;CESSNOCK&quot;</td><td>&quot;2325&quot;</td><td>218.0</td><td>&quot;M&quot;</td><td>2023-11-10</td><td>2023-12-22</td><td>525000</td><td>&quot;RESIDENCE&quot;</td><td>&quot;1&quot;</td><td>218.0</td><td>2023</td><td>12</td><td>2408.26</td></tr><tr><td>&quot;001&quot;</td><td>3029751</td><td>&quot;GOLDEN DOOR HEALTH RETREAT AND…</td><td>&quot;16&quot;</td><td>&quot;165&quot;</td><td>&quot;THOMPSONS RD&quot;</td><td>&quot;POKOLBIN&quot;</td><td>&quot;2320&quot;</td><td>null</td><td>null</td><td>2020-11-25</td><td>2021-01-22</td><td>100000</td><td>&quot;RESIDENCE&quot;</td><td>&quot;16&quot;</td><td>null</td><td>2021</td><td>1</td><td>null</td></tr></tbody></table></div>"
      ],
      "text/plain": [
       "shape: (5, 19)\n",
       "┌──────────┬──────────────┬────────────────┬──────────────────────┬───┬──────────┬────────────┬────────────┬───────────┐\n",
       "│ District ┆ Property Id. ┆ Property Name  ┆ Property Unit Number ┆ … ┆ Area (m) ┆ Settlement ┆ Settlement ┆ Price per │\n",
       "│ Code     ┆ ---          ┆ ---            ┆ ---                  ┆   ┆ ---      ┆ Year       ┆ Month      ┆ m^2       │\n",
       "│ ---      ┆ i64          ┆ str            ┆ str                  ┆   ┆ f64      ┆ ---        ┆ ---        ┆ ---       │\n",
       "│ str      ┆              ┆                ┆                      ┆   ┆          ┆ i32        ┆ i8         ┆ f64       │\n",
       "╞══════════╪══════════════╪════════════════╪══════════════════════╪═══╪══════════╪════════════╪════════════╪═══════════╡\n",
       "│ 001      ┆ 3691928      ┆ null           ┆ 1                    ┆ … ┆ null     ┆ 2023       ┆ 12         ┆ null      │\n",
       "│ 001      ┆ 3691928      ┆ null           ┆ 2                    ┆ … ┆ null     ┆ 2023       ┆ 12         ┆ null      │\n",
       "│ 001      ┆ 3691928      ┆ null           ┆ 3                    ┆ … ┆ null     ┆ 2023       ┆ 12         ┆ null      │\n",
       "│ 001      ┆ 3799095      ┆ null           ┆ 1                    ┆ … ┆ 218.0    ┆ 2023       ┆ 12         ┆ 2408.26   │\n",
       "│ 001      ┆ 3029751      ┆ GOLDEN DOOR    ┆ 16                   ┆ … ┆ null     ┆ 2021       ┆ 1          ┆ null      │\n",
       "│          ┆              ┆ HEALTH RETREAT ┆                      ┆   ┆          ┆            ┆            ┆           │\n",
       "│          ┆              ┆ AND…           ┆                      ┆   ┆          ┆            ┆            ┆           │\n",
       "└──────────┴──────────────┴────────────────┴──────────────────────┴───┴──────────┴────────────┴────────────┴───────────┘"
      ]
     },
     "execution_count": 254,
     "metadata": {},
     "output_type": "execute_result"
    }
   ],
   "source": [
    "unit_df.head()"
   ]
  },
  {
   "cell_type": "code",
   "execution_count": 255,
   "id": "7bad0a48-ed47-4175-8c3f-270f08cf8419",
   "metadata": {},
   "outputs": [],
   "source": [
    "unit_df_filter = unit_df.filter(pl.col(\"Primary Purpose\").is_in([\"UNIT\", \"RESIDENCE\", \"HOUSE UNIT\"]))"
   ]
  },
  {
   "cell_type": "code",
   "execution_count": 256,
   "id": "c4eb90bf-5eb5-4a2c-babe-571ebc645a04",
   "metadata": {},
   "outputs": [
    {
     "data": {
      "text/html": [
       "<div><style>\n",
       ".dataframe > thead > tr,\n",
       ".dataframe > tbody > tr {\n",
       "  text-align: right;\n",
       "  white-space: pre-wrap;\n",
       "}\n",
       "</style>\n",
       "<small>shape: (5, 19)</small><table border=\"1\" class=\"dataframe\"><thead><tr><th>District Code</th><th>Property Id.</th><th>Property Name</th><th>Property Unit Number</th><th>Property House Number</th><th>Property Street Name</th><th>Property Locality</th><th>Property Post Code</th><th>Area</th><th>Area Type</th><th>Contract Date</th><th>Settlement Date</th><th>Purchase Price</th><th>Primary Purpose</th><th>Strata Lot Number</th><th>Area (m)</th><th>Settlement Year</th><th>Settlement Month</th><th>Price per m^2</th></tr><tr><td>str</td><td>i64</td><td>str</td><td>str</td><td>str</td><td>str</td><td>str</td><td>str</td><td>f64</td><td>str</td><td>date</td><td>date</td><td>i64</td><td>str</td><td>str</td><td>f64</td><td>i32</td><td>i8</td><td>f64</td></tr></thead><tbody><tr><td>&quot;001&quot;</td><td>3691928</td><td>null</td><td>&quot;1&quot;</td><td>&quot;18&quot;</td><td>&quot;FAIRVIEW PL&quot;</td><td>&quot;CESSNOCK&quot;</td><td>&quot;2325&quot;</td><td>null</td><td>null</td><td>2023-11-10</td><td>2023-12-22</td><td>1550000</td><td>&quot;RESIDENCE&quot;</td><td>&quot;1&quot;</td><td>null</td><td>2023</td><td>12</td><td>null</td></tr><tr><td>&quot;001&quot;</td><td>3691928</td><td>null</td><td>&quot;2&quot;</td><td>&quot;18&quot;</td><td>&quot;FAIRVIEW PL&quot;</td><td>&quot;CESSNOCK&quot;</td><td>&quot;2325&quot;</td><td>null</td><td>null</td><td>2023-11-10</td><td>2023-12-22</td><td>1550000</td><td>&quot;RESIDENCE&quot;</td><td>&quot;2&quot;</td><td>null</td><td>2023</td><td>12</td><td>null</td></tr><tr><td>&quot;001&quot;</td><td>3691928</td><td>null</td><td>&quot;3&quot;</td><td>&quot;18&quot;</td><td>&quot;FAIRVIEW PL&quot;</td><td>&quot;CESSNOCK&quot;</td><td>&quot;2325&quot;</td><td>null</td><td>null</td><td>2023-11-10</td><td>2023-12-22</td><td>1550000</td><td>&quot;RESIDENCE&quot;</td><td>&quot;3&quot;</td><td>null</td><td>2023</td><td>12</td><td>null</td></tr><tr><td>&quot;001&quot;</td><td>3799095</td><td>null</td><td>&quot;1&quot;</td><td>&quot;24 A&quot;</td><td>&quot;ZINFANDEL CCT&quot;</td><td>&quot;CESSNOCK&quot;</td><td>&quot;2325&quot;</td><td>218.0</td><td>&quot;M&quot;</td><td>2023-11-10</td><td>2023-12-22</td><td>525000</td><td>&quot;RESIDENCE&quot;</td><td>&quot;1&quot;</td><td>218.0</td><td>2023</td><td>12</td><td>2408.26</td></tr><tr><td>&quot;001&quot;</td><td>3029751</td><td>&quot;GOLDEN DOOR HEALTH RETREAT AND…</td><td>&quot;16&quot;</td><td>&quot;165&quot;</td><td>&quot;THOMPSONS RD&quot;</td><td>&quot;POKOLBIN&quot;</td><td>&quot;2320&quot;</td><td>null</td><td>null</td><td>2020-11-25</td><td>2021-01-22</td><td>100000</td><td>&quot;RESIDENCE&quot;</td><td>&quot;16&quot;</td><td>null</td><td>2021</td><td>1</td><td>null</td></tr></tbody></table></div>"
      ],
      "text/plain": [
       "shape: (5, 19)\n",
       "┌──────────┬──────────────┬────────────────┬──────────────────────┬───┬──────────┬────────────┬────────────┬───────────┐\n",
       "│ District ┆ Property Id. ┆ Property Name  ┆ Property Unit Number ┆ … ┆ Area (m) ┆ Settlement ┆ Settlement ┆ Price per │\n",
       "│ Code     ┆ ---          ┆ ---            ┆ ---                  ┆   ┆ ---      ┆ Year       ┆ Month      ┆ m^2       │\n",
       "│ ---      ┆ i64          ┆ str            ┆ str                  ┆   ┆ f64      ┆ ---        ┆ ---        ┆ ---       │\n",
       "│ str      ┆              ┆                ┆                      ┆   ┆          ┆ i32        ┆ i8         ┆ f64       │\n",
       "╞══════════╪══════════════╪════════════════╪══════════════════════╪═══╪══════════╪════════════╪════════════╪═══════════╡\n",
       "│ 001      ┆ 3691928      ┆ null           ┆ 1                    ┆ … ┆ null     ┆ 2023       ┆ 12         ┆ null      │\n",
       "│ 001      ┆ 3691928      ┆ null           ┆ 2                    ┆ … ┆ null     ┆ 2023       ┆ 12         ┆ null      │\n",
       "│ 001      ┆ 3691928      ┆ null           ┆ 3                    ┆ … ┆ null     ┆ 2023       ┆ 12         ┆ null      │\n",
       "│ 001      ┆ 3799095      ┆ null           ┆ 1                    ┆ … ┆ 218.0    ┆ 2023       ┆ 12         ┆ 2408.26   │\n",
       "│ 001      ┆ 3029751      ┆ GOLDEN DOOR    ┆ 16                   ┆ … ┆ null     ┆ 2021       ┆ 1          ┆ null      │\n",
       "│          ┆              ┆ HEALTH RETREAT ┆                      ┆   ┆          ┆            ┆            ┆           │\n",
       "│          ┆              ┆ AND…           ┆                      ┆   ┆          ┆            ┆            ┆           │\n",
       "└──────────┴──────────────┴────────────────┴──────────────────────┴───┴──────────┴────────────┴────────────┴───────────┘"
      ]
     },
     "execution_count": 256,
     "metadata": {},
     "output_type": "execute_result"
    }
   ],
   "source": [
    "unit_df_filter.head()"
   ]
  },
  {
   "cell_type": "code",
   "execution_count": 270,
   "id": "dc17b9e6-31f0-4157-a080-430eb712e2ad",
   "metadata": {},
   "outputs": [],
   "source": [
    "output_file2 = \"./units.csv\"\n",
    "\n",
    "unit_df_filter.write_csv(output_file2)"
   ]
  },
  {
   "cell_type": "code",
   "execution_count": 271,
   "id": "00785753-d4fe-4aeb-944d-a82535ac7749",
   "metadata": {},
   "outputs": [
    {
     "data": {
      "text/html": [
       "<div><style>\n",
       ".dataframe > thead > tr,\n",
       ".dataframe > tbody > tr {\n",
       "  text-align: right;\n",
       "  white-space: pre-wrap;\n",
       "}\n",
       "</style>\n",
       "<small>shape: (4_613, 3)</small><table border=\"1\" class=\"dataframe\"><thead><tr><th>Property Locality</th><th>Settlement Year</th><th>Average Price per m^2 per year</th></tr><tr><td>str</td><td>i32</td><td>f64</td></tr></thead><tbody><tr><td>&quot;ABBOTSBURY&quot;</td><td>2021</td><td>2653.68</td></tr><tr><td>&quot;ABBOTSFORD&quot;</td><td>2021</td><td>6215.51</td></tr><tr><td>&quot;ABBOTSFORD&quot;</td><td>2022</td><td>5805.39</td></tr><tr><td>&quot;ABBOTSFORD&quot;</td><td>2023</td><td>10195.46</td></tr><tr><td>&quot;ABBOTSFORD&quot;</td><td>2024</td><td>9810.86</td></tr><tr><td>&hellip;</td><td>&hellip;</td><td>&hellip;</td></tr><tr><td>&quot;YOWIE BAY&quot;</td><td>2024</td><td>5393.94</td></tr><tr><td>&quot;ZETLAND&quot;</td><td>2021</td><td>10411.85</td></tr><tr><td>&quot;ZETLAND&quot;</td><td>2022</td><td>10388.3</td></tr><tr><td>&quot;ZETLAND&quot;</td><td>2023</td><td>11018.7</td></tr><tr><td>&quot;ZETLAND&quot;</td><td>2024</td><td>32805.32</td></tr></tbody></table></div>"
      ],
      "text/plain": [
       "shape: (4_613, 3)\n",
       "┌───────────────────┬─────────────────┬────────────────────────────────┐\n",
       "│ Property Locality ┆ Settlement Year ┆ Average Price per m^2 per year │\n",
       "│ ---               ┆ ---             ┆ ---                            │\n",
       "│ str               ┆ i32             ┆ f64                            │\n",
       "╞═══════════════════╪═════════════════╪════════════════════════════════╡\n",
       "│ ABBOTSBURY        ┆ 2021            ┆ 2653.68                        │\n",
       "│ ABBOTSFORD        ┆ 2021            ┆ 6215.51                        │\n",
       "│ ABBOTSFORD        ┆ 2022            ┆ 5805.39                        │\n",
       "│ ABBOTSFORD        ┆ 2023            ┆ 10195.46                       │\n",
       "│ ABBOTSFORD        ┆ 2024            ┆ 9810.86                        │\n",
       "│ …                 ┆ …               ┆ …                              │\n",
       "│ YOWIE BAY         ┆ 2024            ┆ 5393.94                        │\n",
       "│ ZETLAND           ┆ 2021            ┆ 10411.85                       │\n",
       "│ ZETLAND           ┆ 2022            ┆ 10388.3                        │\n",
       "│ ZETLAND           ┆ 2023            ┆ 11018.7                        │\n",
       "│ ZETLAND           ┆ 2024            ┆ 32805.32                       │\n",
       "└───────────────────┴─────────────────┴────────────────────────────────┘"
      ]
     },
     "execution_count": 271,
     "metadata": {},
     "output_type": "execute_result"
    }
   ],
   "source": [
    "unit_groupby = unit_df_filter.group_by(['Property Locality', 'Settlement Year']).agg(pl.col('Price per m^2').mean().alias('Average Price per m^2 per year').round(2))\n",
    "unit_groupby.sort(['Property Locality', 'Settlement Year'])"
   ]
  },
  {
   "cell_type": "code",
   "execution_count": 272,
   "id": "bf7b4a1e-7fa2-461d-bdfa-ee58023fde80",
   "metadata": {},
   "outputs": [],
   "source": [
    "output_file3 = \"./units_grouped.csv\"\n",
    "\n",
    "unit_groupby.write_csv(output_file3)"
   ]
  },
  {
   "cell_type": "code",
   "execution_count": 273,
   "id": "a51f1422-2165-4bf7-a320-109073cbab9c",
   "metadata": {},
   "outputs": [],
   "source": [
    "house_df = df_cleaning.filter(\n",
    "    (pl.col(\"Property Unit Number\").is_null() & pl.col(\"Strata Lot Number\").is_null()))"
   ]
  },
  {
   "cell_type": "code",
   "execution_count": 274,
   "id": "ef368951-4135-4b77-8deb-dc18dcca5881",
   "metadata": {},
   "outputs": [
    {
     "data": {
      "text/html": [
       "<div><style>\n",
       ".dataframe > thead > tr,\n",
       ".dataframe > tbody > tr {\n",
       "  text-align: right;\n",
       "  white-space: pre-wrap;\n",
       "}\n",
       "</style>\n",
       "<small>shape: (5, 19)</small><table border=\"1\" class=\"dataframe\"><thead><tr><th>District Code</th><th>Property Id.</th><th>Property Name</th><th>Property Unit Number</th><th>Property House Number</th><th>Property Street Name</th><th>Property Locality</th><th>Property Post Code</th><th>Area</th><th>Area Type</th><th>Contract Date</th><th>Settlement Date</th><th>Purchase Price</th><th>Primary Purpose</th><th>Strata Lot Number</th><th>Area (m)</th><th>Settlement Year</th><th>Settlement Month</th><th>Price per m^2</th></tr><tr><td>str</td><td>i64</td><td>str</td><td>str</td><td>str</td><td>str</td><td>str</td><td>str</td><td>f64</td><td>str</td><td>date</td><td>date</td><td>i64</td><td>str</td><td>str</td><td>f64</td><td>i32</td><td>i8</td><td>f64</td></tr></thead><tbody><tr><td>&quot;001&quot;</td><td>2857799</td><td>null</td><td>null</td><td>&quot;176&quot;</td><td>&quot;LAKE RD&quot;</td><td>&quot;ELRINGTON&quot;</td><td>&quot;2325&quot;</td><td>25.15</td><td>&quot;H&quot;</td><td>2023-12-19</td><td>2023-12-22</td><td>1330000</td><td>&quot;RESIDENCE&quot;</td><td>null</td><td>251500.0</td><td>2023</td><td>12</td><td>5.29</td></tr><tr><td>&quot;001&quot;</td><td>4228</td><td>null</td><td>null</td><td>&quot;2&quot;</td><td>&quot;KING ST&quot;</td><td>&quot;BRANXTON&quot;</td><td>&quot;2335&quot;</td><td>1864.0</td><td>&quot;M&quot;</td><td>2023-11-15</td><td>2023-12-22</td><td>850000</td><td>&quot;RESIDENCE&quot;</td><td>null</td><td>1864.0</td><td>2023</td><td>12</td><td>456.01</td></tr><tr><td>&quot;001&quot;</td><td>7750</td><td>null</td><td>null</td><td>&quot;275&quot;</td><td>&quot;MAITLAND RD&quot;</td><td>&quot;CESSNOCK&quot;</td><td>&quot;2325&quot;</td><td>379.8</td><td>&quot;M&quot;</td><td>2023-10-26</td><td>2023-12-22</td><td>500000</td><td>&quot;SHOP&quot;</td><td>null</td><td>379.8</td><td>2023</td><td>12</td><td>1316.48</td></tr><tr><td>&quot;001&quot;</td><td>11439</td><td>null</td><td>null</td><td>&quot;19&quot;</td><td>&quot;DEAKIN ST&quot;</td><td>&quot;KURRI KURRI&quot;</td><td>&quot;2327&quot;</td><td>1682.0</td><td>&quot;M&quot;</td><td>2023-11-03</td><td>2023-12-22</td><td>575000</td><td>&quot;RESIDENCE&quot;</td><td>null</td><td>1682.0</td><td>2023</td><td>12</td><td>341.85</td></tr><tr><td>&quot;001&quot;</td><td>18319</td><td>null</td><td>null</td><td>&quot;700&quot;</td><td>&quot;MILSONS ARM RD&quot;</td><td>&quot;WOLLOMBI&quot;</td><td>&quot;2325&quot;</td><td>31.77</td><td>&quot;H&quot;</td><td>2023-12-18</td><td>2023-12-22</td><td>236667</td><td>&quot;RESIDENCE&quot;</td><td>null</td><td>317700.0</td><td>2023</td><td>12</td><td>0.74</td></tr></tbody></table></div>"
      ],
      "text/plain": [
       "shape: (5, 19)\n",
       "┌──────────┬──────────────┬──────────┬───────────────┬───┬──────────┬────────────┬────────────┬───────────────┐\n",
       "│ District ┆ Property Id. ┆ Property ┆ Property Unit ┆ … ┆ Area (m) ┆ Settlement ┆ Settlement ┆ Price per m^2 │\n",
       "│ Code     ┆ ---          ┆ Name     ┆ Number        ┆   ┆ ---      ┆ Year       ┆ Month      ┆ ---           │\n",
       "│ ---      ┆ i64          ┆ ---      ┆ ---           ┆   ┆ f64      ┆ ---        ┆ ---        ┆ f64           │\n",
       "│ str      ┆              ┆ str      ┆ str           ┆   ┆          ┆ i32        ┆ i8         ┆               │\n",
       "╞══════════╪══════════════╪══════════╪═══════════════╪═══╪══════════╪════════════╪════════════╪═══════════════╡\n",
       "│ 001      ┆ 2857799      ┆ null     ┆ null          ┆ … ┆ 251500.0 ┆ 2023       ┆ 12         ┆ 5.29          │\n",
       "│ 001      ┆ 4228         ┆ null     ┆ null          ┆ … ┆ 1864.0   ┆ 2023       ┆ 12         ┆ 456.01        │\n",
       "│ 001      ┆ 7750         ┆ null     ┆ null          ┆ … ┆ 379.8    ┆ 2023       ┆ 12         ┆ 1316.48       │\n",
       "│ 001      ┆ 11439        ┆ null     ┆ null          ┆ … ┆ 1682.0   ┆ 2023       ┆ 12         ┆ 341.85        │\n",
       "│ 001      ┆ 18319        ┆ null     ┆ null          ┆ … ┆ 317700.0 ┆ 2023       ┆ 12         ┆ 0.74          │\n",
       "└──────────┴──────────────┴──────────┴───────────────┴───┴──────────┴────────────┴────────────┴───────────────┘"
      ]
     },
     "execution_count": 274,
     "metadata": {},
     "output_type": "execute_result"
    }
   ],
   "source": [
    "house_df.head()"
   ]
  },
  {
   "cell_type": "code",
   "execution_count": 275,
   "id": "79b28ba3-c044-4d21-ae8a-819726d6d5ba",
   "metadata": {},
   "outputs": [],
   "source": [
    "house_df_filter = house_df.filter(pl.col(\"Primary Purpose\").is_in([\"RESIDENCE\", \"DWELLING\", \"HOUSE AND FARM\"]))"
   ]
  },
  {
   "cell_type": "code",
   "execution_count": 276,
   "id": "8a378e34-b6c5-47ab-b5dd-dccf7c1550d8",
   "metadata": {},
   "outputs": [
    {
     "data": {
      "text/html": [
       "<div><style>\n",
       ".dataframe > thead > tr,\n",
       ".dataframe > tbody > tr {\n",
       "  text-align: right;\n",
       "  white-space: pre-wrap;\n",
       "}\n",
       "</style>\n",
       "<small>shape: (5, 19)</small><table border=\"1\" class=\"dataframe\"><thead><tr><th>District Code</th><th>Property Id.</th><th>Property Name</th><th>Property Unit Number</th><th>Property House Number</th><th>Property Street Name</th><th>Property Locality</th><th>Property Post Code</th><th>Area</th><th>Area Type</th><th>Contract Date</th><th>Settlement Date</th><th>Purchase Price</th><th>Primary Purpose</th><th>Strata Lot Number</th><th>Area (m)</th><th>Settlement Year</th><th>Settlement Month</th><th>Price per m^2</th></tr><tr><td>str</td><td>i64</td><td>str</td><td>str</td><td>str</td><td>str</td><td>str</td><td>str</td><td>f64</td><td>str</td><td>date</td><td>date</td><td>i64</td><td>str</td><td>str</td><td>f64</td><td>i32</td><td>i8</td><td>f64</td></tr></thead><tbody><tr><td>&quot;001&quot;</td><td>2857799</td><td>null</td><td>null</td><td>&quot;176&quot;</td><td>&quot;LAKE RD&quot;</td><td>&quot;ELRINGTON&quot;</td><td>&quot;2325&quot;</td><td>25.15</td><td>&quot;H&quot;</td><td>2023-12-19</td><td>2023-12-22</td><td>1330000</td><td>&quot;RESIDENCE&quot;</td><td>null</td><td>251500.0</td><td>2023</td><td>12</td><td>5.29</td></tr><tr><td>&quot;001&quot;</td><td>4228</td><td>null</td><td>null</td><td>&quot;2&quot;</td><td>&quot;KING ST&quot;</td><td>&quot;BRANXTON&quot;</td><td>&quot;2335&quot;</td><td>1864.0</td><td>&quot;M&quot;</td><td>2023-11-15</td><td>2023-12-22</td><td>850000</td><td>&quot;RESIDENCE&quot;</td><td>null</td><td>1864.0</td><td>2023</td><td>12</td><td>456.01</td></tr><tr><td>&quot;001&quot;</td><td>11439</td><td>null</td><td>null</td><td>&quot;19&quot;</td><td>&quot;DEAKIN ST&quot;</td><td>&quot;KURRI KURRI&quot;</td><td>&quot;2327&quot;</td><td>1682.0</td><td>&quot;M&quot;</td><td>2023-11-03</td><td>2023-12-22</td><td>575000</td><td>&quot;RESIDENCE&quot;</td><td>null</td><td>1682.0</td><td>2023</td><td>12</td><td>341.85</td></tr><tr><td>&quot;001&quot;</td><td>18319</td><td>null</td><td>null</td><td>&quot;700&quot;</td><td>&quot;MILSONS ARM RD&quot;</td><td>&quot;WOLLOMBI&quot;</td><td>&quot;2325&quot;</td><td>31.77</td><td>&quot;H&quot;</td><td>2023-12-18</td><td>2023-12-22</td><td>236667</td><td>&quot;RESIDENCE&quot;</td><td>null</td><td>317700.0</td><td>2023</td><td>12</td><td>0.74</td></tr><tr><td>&quot;001&quot;</td><td>3073376</td><td>null</td><td>null</td><td>&quot;35 A&quot;</td><td>&quot;COLLIERY ST&quot;</td><td>&quot;ABERDARE&quot;</td><td>&quot;2325&quot;</td><td>3869.8</td><td>&quot;M&quot;</td><td>2023-11-21</td><td>2023-12-22</td><td>1490000</td><td>&quot;RESIDENCE&quot;</td><td>null</td><td>3869.8</td><td>2023</td><td>12</td><td>385.03</td></tr></tbody></table></div>"
      ],
      "text/plain": [
       "shape: (5, 19)\n",
       "┌──────────┬──────────────┬──────────┬───────────────┬───┬──────────┬────────────┬────────────┬───────────────┐\n",
       "│ District ┆ Property Id. ┆ Property ┆ Property Unit ┆ … ┆ Area (m) ┆ Settlement ┆ Settlement ┆ Price per m^2 │\n",
       "│ Code     ┆ ---          ┆ Name     ┆ Number        ┆   ┆ ---      ┆ Year       ┆ Month      ┆ ---           │\n",
       "│ ---      ┆ i64          ┆ ---      ┆ ---           ┆   ┆ f64      ┆ ---        ┆ ---        ┆ f64           │\n",
       "│ str      ┆              ┆ str      ┆ str           ┆   ┆          ┆ i32        ┆ i8         ┆               │\n",
       "╞══════════╪══════════════╪══════════╪═══════════════╪═══╪══════════╪════════════╪════════════╪═══════════════╡\n",
       "│ 001      ┆ 2857799      ┆ null     ┆ null          ┆ … ┆ 251500.0 ┆ 2023       ┆ 12         ┆ 5.29          │\n",
       "│ 001      ┆ 4228         ┆ null     ┆ null          ┆ … ┆ 1864.0   ┆ 2023       ┆ 12         ┆ 456.01        │\n",
       "│ 001      ┆ 11439        ┆ null     ┆ null          ┆ … ┆ 1682.0   ┆ 2023       ┆ 12         ┆ 341.85        │\n",
       "│ 001      ┆ 18319        ┆ null     ┆ null          ┆ … ┆ 317700.0 ┆ 2023       ┆ 12         ┆ 0.74          │\n",
       "│ 001      ┆ 3073376      ┆ null     ┆ null          ┆ … ┆ 3869.8   ┆ 2023       ┆ 12         ┆ 385.03        │\n",
       "└──────────┴──────────────┴──────────┴───────────────┴───┴──────────┴────────────┴────────────┴───────────────┘"
      ]
     },
     "execution_count": 276,
     "metadata": {},
     "output_type": "execute_result"
    }
   ],
   "source": [
    "house_df_filter.head()"
   ]
  },
  {
   "cell_type": "code",
   "execution_count": 277,
   "id": "12a59d15-545a-4ae3-8f01-af02a6215440",
   "metadata": {},
   "outputs": [],
   "source": [
    "output_file4 = \"./house.csv\"\n",
    "\n",
    "house_df_filter.write_csv(output_file4)"
   ]
  },
  {
   "cell_type": "code",
   "execution_count": 278,
   "id": "a0bcdd91-7ff7-4078-855b-604f0ee1338e",
   "metadata": {},
   "outputs": [
    {
     "data": {
      "text/html": [
       "<div><style>\n",
       ".dataframe > thead > tr,\n",
       ".dataframe > tbody > tr {\n",
       "  text-align: right;\n",
       "  white-space: pre-wrap;\n",
       "}\n",
       "</style>\n",
       "<small>shape: (12_410, 3)</small><table border=\"1\" class=\"dataframe\"><thead><tr><th>Property Locality</th><th>Settlement Year</th><th>Average Price per m^2 per year</th></tr><tr><td>str</td><td>i32</td><td>f64</td></tr></thead><tbody><tr><td>&quot;AARONS PASS&quot;</td><td>2022</td><td>1.35</td></tr><tr><td>&quot;AARONS PASS&quot;</td><td>2024</td><td>1.0</td></tr><tr><td>&quot;ABBOTSBURY&quot;</td><td>2021</td><td>1781.23</td></tr><tr><td>&quot;ABBOTSBURY&quot;</td><td>2022</td><td>2318.06</td></tr><tr><td>&quot;ABBOTSBURY&quot;</td><td>2023</td><td>2203.31</td></tr><tr><td>&hellip;</td><td>&hellip;</td><td>&hellip;</td></tr><tr><td>&quot;ZARA&quot;</td><td>2024</td><td>7.09</td></tr><tr><td>&quot;ZETLAND&quot;</td><td>2021</td><td>13354.66</td></tr><tr><td>&quot;ZETLAND&quot;</td><td>2022</td><td>11080.24</td></tr><tr><td>&quot;ZETLAND&quot;</td><td>2023</td><td>13850.57</td></tr><tr><td>&quot;ZETLAND&quot;</td><td>2024</td><td>16801.44</td></tr></tbody></table></div>"
      ],
      "text/plain": [
       "shape: (12_410, 3)\n",
       "┌───────────────────┬─────────────────┬────────────────────────────────┐\n",
       "│ Property Locality ┆ Settlement Year ┆ Average Price per m^2 per year │\n",
       "│ ---               ┆ ---             ┆ ---                            │\n",
       "│ str               ┆ i32             ┆ f64                            │\n",
       "╞═══════════════════╪═════════════════╪════════════════════════════════╡\n",
       "│ AARONS PASS       ┆ 2022            ┆ 1.35                           │\n",
       "│ AARONS PASS       ┆ 2024            ┆ 1.0                            │\n",
       "│ ABBOTSBURY        ┆ 2021            ┆ 1781.23                        │\n",
       "│ ABBOTSBURY        ┆ 2022            ┆ 2318.06                        │\n",
       "│ ABBOTSBURY        ┆ 2023            ┆ 2203.31                        │\n",
       "│ …                 ┆ …               ┆ …                              │\n",
       "│ ZARA              ┆ 2024            ┆ 7.09                           │\n",
       "│ ZETLAND           ┆ 2021            ┆ 13354.66                       │\n",
       "│ ZETLAND           ┆ 2022            ┆ 11080.24                       │\n",
       "│ ZETLAND           ┆ 2023            ┆ 13850.57                       │\n",
       "│ ZETLAND           ┆ 2024            ┆ 16801.44                       │\n",
       "└───────────────────┴─────────────────┴────────────────────────────────┘"
      ]
     },
     "execution_count": 278,
     "metadata": {},
     "output_type": "execute_result"
    }
   ],
   "source": [
    "house_groupby = house_df_filter.group_by(['Property Locality', 'Settlement Year']).agg(pl.col('Price per m^2').mean().alias('Average Price per m^2 per year').round(2))\n",
    "house_groupby.sort(['Property Locality', 'Settlement Year'])\n"
   ]
  },
  {
   "cell_type": "code",
   "execution_count": 279,
   "id": "0783986a-ea98-4159-9bff-ba2ec7ae3cf6",
   "metadata": {},
   "outputs": [
    {
     "data": {
      "text/html": [
       "<div><style>\n",
       ".dataframe > thead > tr,\n",
       ".dataframe > tbody > tr {\n",
       "  text-align: right;\n",
       "  white-space: pre-wrap;\n",
       "}\n",
       "</style>\n",
       "<small>shape: (5, 3)</small><table border=\"1\" class=\"dataframe\"><thead><tr><th>Property Locality</th><th>Settlement Year</th><th>Average Price per m^2 per year</th></tr><tr><td>str</td><td>i32</td><td>f64</td></tr></thead><tbody><tr><td>&quot;BRUNSWICK HEADS&quot;</td><td>2021</td><td>2950.27</td></tr><tr><td>&quot;PARRAMATTA&quot;</td><td>2023</td><td>4950.59</td></tr><tr><td>&quot;HALLSVILLE&quot;</td><td>2024</td><td>115.27</td></tr><tr><td>&quot;BEACON HILL&quot;</td><td>2022</td><td>3743.84</td></tr><tr><td>&quot;CEDAR PARTY&quot;</td><td>2021</td><td>11.29</td></tr></tbody></table></div>"
      ],
      "text/plain": [
       "shape: (5, 3)\n",
       "┌───────────────────┬─────────────────┬────────────────────────────────┐\n",
       "│ Property Locality ┆ Settlement Year ┆ Average Price per m^2 per year │\n",
       "│ ---               ┆ ---             ┆ ---                            │\n",
       "│ str               ┆ i32             ┆ f64                            │\n",
       "╞═══════════════════╪═════════════════╪════════════════════════════════╡\n",
       "│ BRUNSWICK HEADS   ┆ 2021            ┆ 2950.27                        │\n",
       "│ PARRAMATTA        ┆ 2023            ┆ 4950.59                        │\n",
       "│ HALLSVILLE        ┆ 2024            ┆ 115.27                         │\n",
       "│ BEACON HILL       ┆ 2022            ┆ 3743.84                        │\n",
       "│ CEDAR PARTY       ┆ 2021            ┆ 11.29                          │\n",
       "└───────────────────┴─────────────────┴────────────────────────────────┘"
      ]
     },
     "execution_count": 279,
     "metadata": {},
     "output_type": "execute_result"
    }
   ],
   "source": [
    "house_groupby.head()"
   ]
  },
  {
   "cell_type": "code",
   "execution_count": 280,
   "id": "74931114-981d-487d-b4dd-56a14b1e01d7",
   "metadata": {},
   "outputs": [],
   "source": [
    "output_file5 = \"./house_grouped.csv\"\n",
    "\n",
    "house_groupby.write_csv(output_file5)"
   ]
  },
  {
   "cell_type": "code",
   "execution_count": null,
   "id": "fa941d05-0d5c-41dc-9a90-00c19b083185",
   "metadata": {},
   "outputs": [],
   "source": []
  }
 ],
 "metadata": {
  "kernelspec": {
   "display_name": "Python 3 (ipykernel)",
   "language": "python",
   "name": "python3"
  },
  "language_info": {
   "codemirror_mode": {
    "name": "ipython",
    "version": 3
   },
   "file_extension": ".py",
   "mimetype": "text/x-python",
   "name": "python",
   "nbconvert_exporter": "python",
   "pygments_lexer": "ipython3",
   "version": "3.10.14"
  }
 },
 "nbformat": 4,
 "nbformat_minor": 5
}
